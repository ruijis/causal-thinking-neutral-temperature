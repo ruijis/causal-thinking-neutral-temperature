{
 "cells": [
  {
   "cell_type": "code",
   "execution_count": 163,
   "metadata": {},
   "outputs": [],
   "source": [
    "# Import required libraries\n",
    "import pandas as pd\n",
    "import numpy as np\n",
    "import seaborn as sns\n",
    "import matplotlib.pyplot as plt\n",
    "import statsmodels.formula.api as smf\n",
    "import statsmodels.api as sm\n",
    "\n",
    "from matplotlib.ticker import FormatStrFormatter\n"
   ]
  },
  {
   "cell_type": "markdown",
   "metadata": {},
   "source": [
    "## Import ASHRAE Thermal Comfort Database 2"
   ]
  },
  {
   "cell_type": "code",
   "execution_count": 164,
   "metadata": {},
   "outputs": [
    {
     "name": "stderr",
     "output_type": "stream",
     "text": [
      "<ipython-input-164-c67988f7a35f>:7: DtypeWarning: Columns (5,35,36) have mixed types. Specify dtype option on import or set low_memory=False.\n",
      "  df_measurements = pd.read_csv(url_measurements)\n"
     ]
    }
   ],
   "source": [
    "# Read metadata from Github\n",
    "url_meta = \"https://github.com/CenterForTheBuiltEnvironment/ashrae-db-II/raw/master/v2.1.0/db_metadata.csv\"\n",
    "df_meta = pd.read_csv(url_meta)\n",
    "\n",
    "# Read database from Github\n",
    "url_measurements = \"https://github.com/CenterForTheBuiltEnvironment/ashrae-db-II/raw/master/v2.1.0/db_measurements_v2.1.0.csv.gz\"\n",
    "df_measurements = pd.read_csv(url_measurements)"
   ]
  },
  {
   "cell_type": "code",
   "execution_count": 165,
   "metadata": {},
   "outputs": [
    {
     "name": "stdout",
     "output_type": "stream",
     "text": [
      "Total buildings: 809\n",
      "Total records: 109033\n"
     ]
    }
   ],
   "source": [
    "# Merge building metadata and measurement data\n",
    "df_data = df_measurements.merge(df_meta[['building_id', 'city', 'building_type', 'cooling_type', 'records', 'database']], on='building_id', how='left')\n",
    "\n",
    "print('Total buildings:', len(df_data.building_id.unique()))\n",
    "print('Total records:', len(df_data))"
   ]
  },
  {
   "cell_type": "markdown",
   "metadata": {},
   "source": [
    "### Data cleaning"
   ]
  },
  {
   "cell_type": "code",
   "execution_count": 166,
   "metadata": {},
   "outputs": [],
   "source": [
    "# Merge two outdoor air temperature columns as a new column\n",
    "df_data.loc[:, 't_out_combined'] = df_data.loc[:, 't_out_isd'].fillna(df_data.loc[:, 't_out'])\n",
    "# Remove the two outdoor air temperature columns\n",
    "df_data = df_data.drop(columns=['t_out_isd', 't_out'])\n",
    "\n",
    "# Keep rows that simultaneously have data for all variables in cols \n",
    "def keep_rows(df, cols):\n",
    "    df_new = df.dropna(subset=cols)\n",
    "    print(f'Qualified buildings:', len(df_new['building_id'].unique()), cols)\n",
    "    print(f'Qualified records:', len(df_new))\n",
    "    return df_new"
   ]
  },
  {
   "cell_type": "code",
   "execution_count": 167,
   "metadata": {},
   "outputs": [
    {
     "name": "stdout",
     "output_type": "stream",
     "text": [
      "Qualified buildings: 553 ['t_out_combined', 'top', 'thermal_sensation']\n",
      "Qualified records: 38467\n"
     ]
    }
   ],
   "source": [
    "cols = ['t_out_combined', 'top', 'thermal_sensation']\n",
    "df_data = keep_rows(df_data, cols).copy()"
   ]
  },
  {
   "cell_type": "markdown",
   "metadata": {},
   "source": [
    "## Estimation result on the first building in the dataset"
   ]
  },
  {
   "cell_type": "code",
   "execution_count": 227,
   "metadata": {},
   "outputs": [
    {
     "data": {
      "text/html": [
       "<div>\n",
       "<style scoped>\n",
       "    .dataframe tbody tr th:only-of-type {\n",
       "        vertical-align: middle;\n",
       "    }\n",
       "\n",
       "    .dataframe tbody tr th {\n",
       "        vertical-align: top;\n",
       "    }\n",
       "\n",
       "    .dataframe thead th {\n",
       "        text-align: right;\n",
       "    }\n",
       "</style>\n",
       "<table border=\"1\" class=\"dataframe\">\n",
       "  <thead>\n",
       "    <tr style=\"text-align: right;\">\n",
       "      <th></th>\n",
       "      <th>index</th>\n",
       "      <th>record_id</th>\n",
       "      <th>building_id</th>\n",
       "      <th>timestamp</th>\n",
       "      <th>season</th>\n",
       "      <th>subject_id</th>\n",
       "      <th>age</th>\n",
       "      <th>gender</th>\n",
       "      <th>ht</th>\n",
       "      <th>wt</th>\n",
       "      <th>...</th>\n",
       "      <th>ppd</th>\n",
       "      <th>pmv_ce</th>\n",
       "      <th>ppd_ce</th>\n",
       "      <th>t_mot_isd</th>\n",
       "      <th>city</th>\n",
       "      <th>building_type</th>\n",
       "      <th>cooling_type</th>\n",
       "      <th>records</th>\n",
       "      <th>database</th>\n",
       "      <th>t_out_combined</th>\n",
       "    </tr>\n",
       "  </thead>\n",
       "  <tbody>\n",
       "    <tr>\n",
       "      <th>0</th>\n",
       "      <td>0</td>\n",
       "      <td>1</td>\n",
       "      <td>1</td>\n",
       "      <td>1995-05-18T00:00:00Z</td>\n",
       "      <td>winter</td>\n",
       "      <td>10.0</td>\n",
       "      <td>NaN</td>\n",
       "      <td>female</td>\n",
       "      <td>NaN</td>\n",
       "      <td>NaN</td>\n",
       "      <td>...</td>\n",
       "      <td>10.2</td>\n",
       "      <td>0.38</td>\n",
       "      <td>8.0</td>\n",
       "      <td>17.4</td>\n",
       "      <td>sydney</td>\n",
       "      <td>office</td>\n",
       "      <td>mixed mode</td>\n",
       "      <td>170</td>\n",
       "      <td>1.0</td>\n",
       "      <td>16.295833</td>\n",
       "    </tr>\n",
       "    <tr>\n",
       "      <th>1</th>\n",
       "      <td>1</td>\n",
       "      <td>2</td>\n",
       "      <td>1</td>\n",
       "      <td>1995-05-18T00:00:00Z</td>\n",
       "      <td>winter</td>\n",
       "      <td>14.0</td>\n",
       "      <td>NaN</td>\n",
       "      <td>female</td>\n",
       "      <td>NaN</td>\n",
       "      <td>NaN</td>\n",
       "      <td>...</td>\n",
       "      <td>8.4</td>\n",
       "      <td>0.40</td>\n",
       "      <td>8.4</td>\n",
       "      <td>17.4</td>\n",
       "      <td>sydney</td>\n",
       "      <td>office</td>\n",
       "      <td>mixed mode</td>\n",
       "      <td>170</td>\n",
       "      <td>1.0</td>\n",
       "      <td>16.295833</td>\n",
       "    </tr>\n",
       "    <tr>\n",
       "      <th>2</th>\n",
       "      <td>2</td>\n",
       "      <td>3</td>\n",
       "      <td>1</td>\n",
       "      <td>1995-05-18T00:00:00Z</td>\n",
       "      <td>winter</td>\n",
       "      <td>15.0</td>\n",
       "      <td>NaN</td>\n",
       "      <td>female</td>\n",
       "      <td>NaN</td>\n",
       "      <td>NaN</td>\n",
       "      <td>...</td>\n",
       "      <td>5.1</td>\n",
       "      <td>-0.07</td>\n",
       "      <td>5.1</td>\n",
       "      <td>17.4</td>\n",
       "      <td>sydney</td>\n",
       "      <td>office</td>\n",
       "      <td>mixed mode</td>\n",
       "      <td>170</td>\n",
       "      <td>1.0</td>\n",
       "      <td>16.295833</td>\n",
       "    </tr>\n",
       "    <tr>\n",
       "      <th>3</th>\n",
       "      <td>3</td>\n",
       "      <td>4</td>\n",
       "      <td>1</td>\n",
       "      <td>1995-05-18T00:00:00Z</td>\n",
       "      <td>winter</td>\n",
       "      <td>17.0</td>\n",
       "      <td>NaN</td>\n",
       "      <td>female</td>\n",
       "      <td>NaN</td>\n",
       "      <td>NaN</td>\n",
       "      <td>...</td>\n",
       "      <td>7.0</td>\n",
       "      <td>0.14</td>\n",
       "      <td>5.4</td>\n",
       "      <td>17.4</td>\n",
       "      <td>sydney</td>\n",
       "      <td>office</td>\n",
       "      <td>mixed mode</td>\n",
       "      <td>170</td>\n",
       "      <td>1.0</td>\n",
       "      <td>16.295833</td>\n",
       "    </tr>\n",
       "    <tr>\n",
       "      <th>4</th>\n",
       "      <td>4</td>\n",
       "      <td>5</td>\n",
       "      <td>1</td>\n",
       "      <td>1995-05-18T00:00:00Z</td>\n",
       "      <td>winter</td>\n",
       "      <td>21.0</td>\n",
       "      <td>NaN</td>\n",
       "      <td>male</td>\n",
       "      <td>NaN</td>\n",
       "      <td>NaN</td>\n",
       "      <td>...</td>\n",
       "      <td>5.0</td>\n",
       "      <td>-0.06</td>\n",
       "      <td>5.1</td>\n",
       "      <td>17.4</td>\n",
       "      <td>sydney</td>\n",
       "      <td>office</td>\n",
       "      <td>mixed mode</td>\n",
       "      <td>170</td>\n",
       "      <td>1.0</td>\n",
       "      <td>16.295833</td>\n",
       "    </tr>\n",
       "  </tbody>\n",
       "</table>\n",
       "<p>5 rows × 57 columns</p>\n",
       "</div>"
      ],
      "text/plain": [
       "   index  record_id  building_id             timestamp  season subject_id  \\\n",
       "0      0          1            1  1995-05-18T00:00:00Z  winter       10.0   \n",
       "1      1          2            1  1995-05-18T00:00:00Z  winter       14.0   \n",
       "2      2          3            1  1995-05-18T00:00:00Z  winter       15.0   \n",
       "3      3          4            1  1995-05-18T00:00:00Z  winter       17.0   \n",
       "4      4          5            1  1995-05-18T00:00:00Z  winter       21.0   \n",
       "\n",
       "   age  gender  ht  wt  ...   ppd  pmv_ce  ppd_ce  t_mot_isd    city  \\\n",
       "0  NaN  female NaN NaN  ...  10.2    0.38     8.0       17.4  sydney   \n",
       "1  NaN  female NaN NaN  ...   8.4    0.40     8.4       17.4  sydney   \n",
       "2  NaN  female NaN NaN  ...   5.1   -0.07     5.1       17.4  sydney   \n",
       "3  NaN  female NaN NaN  ...   7.0    0.14     5.4       17.4  sydney   \n",
       "4  NaN    male NaN NaN  ...   5.0   -0.06     5.1       17.4  sydney   \n",
       "\n",
       "   building_type  cooling_type  records  database  t_out_combined  \n",
       "0         office    mixed mode      170       1.0       16.295833  \n",
       "1         office    mixed mode      170       1.0       16.295833  \n",
       "2         office    mixed mode      170       1.0       16.295833  \n",
       "3         office    mixed mode      170       1.0       16.295833  \n",
       "4         office    mixed mode      170       1.0       16.295833  \n",
       "\n",
       "[5 rows x 57 columns]"
      ]
     },
     "execution_count": 227,
     "metadata": {},
     "output_type": "execute_result"
    }
   ],
   "source": [
    "# neutral temepratuer calculation example\n",
    "df_data_1bldg = df_data[df_data['building_id'] == 1]\n",
    "df_data_1bldg.head()"
   ]
  },
  {
   "cell_type": "markdown",
   "metadata": {},
   "source": [
    "### linear regression method (a)"
   ]
  },
  {
   "cell_type": "code",
   "execution_count": 327,
   "metadata": {},
   "outputs": [
    {
     "name": "stderr",
     "output_type": "stream",
     "text": [
      "<ipython-input-327-75da2b196e23>:5: SettingWithCopyWarning: \n",
      "A value is trying to be set on a copy of a slice from a DataFrame.\n",
      "Try using .loc[row_indexer,col_indexer] = value instead\n",
      "\n",
      "See the caveats in the documentation: https://pandas.pydata.org/pandas-docs/stable/user_guide/indexing.html#returning-a-view-versus-a-copy\n",
      "  df_data_1bldg['TSV_pred'] = lm_result.predict(df_data_1bldg['top'])\n"
     ]
    },
    {
     "data": {
      "image/png": "[encoded data removed]",
      "text/plain": [
       "<Figure size 720x504 with 1 Axes>"
      ]
     },
     "metadata": {
      "needs_background": "light"
     },
     "output_type": "display_data"
    },
    {
     "name": "stdout",
     "output_type": "stream",
     "text": [
      "Neutral temperature is 21.1 degree Celsius.\n",
      "80 percent acceptable temperature range is (18.2 ~ 24.0) degree Celsius.\n",
      "90 percent acceptable temperature range is (19.4 ~ 22.8) degree Celsius.\n",
      "p value: 1.2974572985470425e-10\n",
      "                            OLS Regression Results                            \n",
      "==============================================================================\n",
      "Dep. Variable:      thermal_sensation   R-squared:                       0.220\n",
      "Model:                            OLS   Adj. R-squared:                  0.215\n",
      "Method:                 Least Squares   F-statistic:                     47.03\n",
      "Date:                Mon, 25 Sep 2023   Prob (F-statistic):           1.30e-10\n",
      "Time:                        14:43:18   Log-Likelihood:                -237.80\n",
      "No. Observations:                 169   AIC:                             479.6\n",
      "Df Residuals:                     167   BIC:                             485.9\n",
      "Df Model:                           1                                         \n",
      "Covariance Type:            nonrobust                                         \n",
      "==============================================================================\n",
      "                 coef    std err          t      P>|t|      [0.025      0.975]\n",
      "------------------------------------------------------------------------------\n",
      "Intercept     -6.1546      0.992     -6.205      0.000      -8.113      -4.196\n",
      "top            0.2918      0.043      6.858      0.000       0.208       0.376\n",
      "==============================================================================\n",
      "Omnibus:                        3.559   Durbin-Watson:                   1.618\n",
      "Prob(Omnibus):                  0.169   Jarque-Bera (JB):                3.144\n",
      "Skew:                          -0.257   Prob(JB):                        0.208\n",
      "Kurtosis:                       3.428   Cond. No.                         303.\n",
      "==============================================================================\n",
      "\n",
      "Notes:\n",
      "[1] Standard Errors assume that the covariance matrix of the errors is correctly specified.\n"
     ]
    }
   ],
   "source": [
    "\n",
    "# regressing thermal sensation votes against temperature\n",
    "lm_result = smf.ols(formula='thermal_sensation ~ top', data=df_data_1bldg).fit()\n",
    "\n",
    "# add the prediction to the dataframe\n",
    "df_data_1bldg['TSV_pred'] = lm_result.predict(df_data_1bldg['top'])\n",
    "# plot the regression line\n",
    "plt.figure(figsize=(10, 7))\n",
    "sns.regplot(x='top', y='thermal_sensation', data=df_data_1bldg, scatter_kws={'color': 'grey'}, line_kws={'color': 'black'})\n",
    "plt.xlabel('T(°C)', fontsize=25)\n",
    "plt.ylabel('TSV', rotation=0, fontsize=25)\n",
    "# plt.title('Regress thermal sensation votes on indoor temperature')\n",
    "\n",
    "# Move y-axis label to the top and adjust the distance\n",
    "ax = plt.gca()\n",
    "ax.xaxis.set_label_coords(0.95, -0.1)\n",
    "ax.yaxis.set_label_coords(-0.1, 0.47)\n",
    "\n",
    "plt.xticks(fontsize=20)  # Rotate and set font size for x-axis tick labels\n",
    "plt.yticks(fontsize=20)  # Set font size for y-axis tick labels\n",
    "\n",
    "plt.grid(False)\n",
    "plt.show()\n",
    "\n",
    "# check whether the correaltion (slope) is significant\n",
    "if lm_result.pvalues['top'] < 0.05:\n",
    "    a = lm_result.params['top']\n",
    "    b = lm_result.params['Intercept']\n",
    "    neutral_temp = -b / a\n",
    "    temp80_up = (0.85-b)/a\n",
    "    temp80_low = (-0.85-b)/a\n",
    "    temp90_up = (0.5-b)/a\n",
    "    temp90_low = (-0.5-b)/a\n",
    "    print('Neutral temperature is {:.1f} degree Celsius.'.format(neutral_temp))\n",
    "    print('80 percent acceptable temperature range is ({:.1f}'.format(temp80_low), '~ {:.1f}) degree Celsius.'.format(temp80_up))\n",
    "    print('90 percent acceptable temperature range is ({:.1f}'.format(temp90_low), '~ {:.1f}) degree Celsius.'.format(temp90_up))\n",
    "else:\n",
    "    print('The slope is not significant.')\n",
    "\n",
    "# statistical anayalsis summary\n",
    "print('p value:', lm_result.pvalues['top'])\n",
    "print(lm_result.summary())"
   ]
  },
  {
   "cell_type": "markdown",
   "metadata": {},
   "source": [
    "\n",
    "### linear regression method (b)"
   ]
  },
  {
   "cell_type": "code",
   "execution_count": 326,
   "metadata": {},
   "outputs": [
    {
     "name": "stderr",
     "output_type": "stream",
     "text": [
      "<ipython-input-326-709cb850d083>:5: SettingWithCopyWarning: \n",
      "A value is trying to be set on a copy of a slice from a DataFrame.\n",
      "Try using .loc[row_indexer,col_indexer] = value instead\n",
      "\n",
      "See the caveats in the documentation: https://pandas.pydata.org/pandas-docs/stable/user_guide/indexing.html#returning-a-view-versus-a-copy\n",
      "  df_data_1bldg['top_pred'] = lm_result.predict(df_data_1bldg['thermal_sensation'])\n"
     ]
    },
    {
     "data": {
      "image/png": "[encoded data removed]",
      "text/plain": [
       "<Figure size 720x504 with 1 Axes>"
      ]
     },
     "metadata": {
      "needs_background": "light"
     },
     "output_type": "display_data"
    },
    {
     "name": "stdout",
     "output_type": "stream",
     "text": [
      "Neutral temperature is 22.8 degree Celsius.\n",
      "80 percent acceptable temperature range is (22.1 ~ 23.4) degree Celsius.\n",
      "90 percent acceptable temperature range is (22.4 ~ 23.1) degree Celsius.\n",
      "p value: 1.297457298547297e-10\n",
      "                            OLS Regression Results                            \n",
      "==============================================================================\n",
      "Dep. Variable:                    top   R-squared:                       0.220\n",
      "Model:                            OLS   Adj. R-squared:                  0.215\n",
      "Method:                 Least Squares   F-statistic:                     47.03\n",
      "Date:                Mon, 25 Sep 2023   Prob (F-statistic):           1.30e-10\n",
      "Time:                        14:43:05   Log-Likelihood:                -317.89\n",
      "No. Observations:                 169   AIC:                             639.8\n",
      "Df Residuals:                     167   BIC:                             646.0\n",
      "Df Model:                           1                                         \n",
      "Covariance Type:            nonrobust                                         \n",
      "=====================================================================================\n",
      "                        coef    std err          t      P>|t|      [0.025      0.975]\n",
      "-------------------------------------------------------------------------------------\n",
      "Intercept            22.7674      0.141    161.675      0.000      22.489      23.045\n",
      "thermal_sensation     0.7529      0.110      6.858      0.000       0.536       0.970\n",
      "==============================================================================\n",
      "Omnibus:                        4.741   Durbin-Watson:                   1.089\n",
      "Prob(Omnibus):                  0.093   Jarque-Bera (JB):                4.315\n",
      "Skew:                          -0.373   Prob(JB):                        0.116\n",
      "Kurtosis:                       3.236   Cond. No.                         1.81\n",
      "==============================================================================\n",
      "\n",
      "Notes:\n",
      "[1] Standard Errors assume that the covariance matrix of the errors is correctly specified.\n"
     ]
    }
   ],
   "source": [
    "# regressing thermal sensation votes against temperature\n",
    "lm_result = smf.ols(formula='top ~ thermal_sensation', data=df_data_1bldg).fit()\n",
    "\n",
    "# add the prediction to the dataframe\n",
    "df_data_1bldg['top_pred'] = lm_result.predict(df_data_1bldg['thermal_sensation'])\n",
    "# plot the regression line\n",
    "plt.figure(figsize=(10, 7))\n",
    "sns.regplot(x='thermal_sensation', y='top', data=df_data_1bldg, scatter_kws={'color': 'grey'}, line_kws={'color': 'black'})\n",
    "plt.xlabel('TSV', fontsize=25)\n",
    "plt.ylabel('T(°C)', rotation=0, fontsize=25)\n",
    "# plt.title('Regress thermal sensation votes on indoor temperature')\n",
    "\n",
    "# Move y-axis label to the top and adjust the distance\n",
    "ax = plt.gca()\n",
    "ax.xaxis.set_label_coords(0.5, -0.1)\n",
    "ax.yaxis.set_label_coords(-0.1, 0.95)\n",
    "\n",
    "plt.xticks(fontsize=20)  # Rotate and set font size for x-axis tick labels\n",
    "plt.yticks(fontsize=20)  # Set font size for y-axis tick labels\n",
    "\n",
    "plt.grid(False)\n",
    "plt.show()\n",
    "\n",
    "# check whether the correaltion (slope) is significant\n",
    "if lm_result.pvalues['thermal_sensation'] < 0.05:\n",
    "    a = lm_result.params['thermal_sensation']\n",
    "    b = lm_result.params['Intercept']\n",
    "    neutral_temp = b\n",
    "    temp80_up = 0.85*a + b\n",
    "    temp80_low = (-0.85)*a + b\n",
    "    temp90_up = 0.5*a + b\n",
    "    temp90_low = (-0.5)*a + b\n",
    "    print('Neutral temperature is {:.1f} degree Celsius.'.format(neutral_temp))\n",
    "    print('80 percent acceptable temperature range is ({:.1f}'.format(temp80_low), '~ {:.1f}) degree Celsius.'.format(temp80_up))\n",
    "    print('90 percent acceptable temperature range is ({:.1f}'.format(temp90_low), '~ {:.1f}) degree Celsius.'.format(temp90_up))\n",
    "\n",
    "else:\n",
    "    print('The slope is not significant.')\n",
    "\n",
    "# statistical anayalsis summary\n",
    "print('p value:', lm_result.pvalues['thermal_sensation'])\n",
    "print(lm_result.summary())"
   ]
  },
  {
   "cell_type": "markdown",
   "metadata": {},
   "source": [
    "### two methods have the same pearson correlation coefficient"
   ]
  },
  {
   "cell_type": "code",
   "execution_count": 171,
   "metadata": {},
   "outputs": [
    {
     "data": {
      "text/html": [
       "<div>\n",
       "<style scoped>\n",
       "    .dataframe tbody tr th:only-of-type {\n",
       "        vertical-align: middle;\n",
       "    }\n",
       "\n",
       "    .dataframe tbody tr th {\n",
       "        vertical-align: top;\n",
       "    }\n",
       "\n",
       "    .dataframe thead th {\n",
       "        text-align: right;\n",
       "    }\n",
       "</style>\n",
       "<table border=\"1\" class=\"dataframe\">\n",
       "  <thead>\n",
       "    <tr style=\"text-align: right;\">\n",
       "      <th></th>\n",
       "      <th>top</th>\n",
       "      <th>thermal_sensation</th>\n",
       "    </tr>\n",
       "  </thead>\n",
       "  <tbody>\n",
       "    <tr>\n",
       "      <th>top</th>\n",
       "      <td>1.000000</td>\n",
       "      <td>0.468746</td>\n",
       "    </tr>\n",
       "    <tr>\n",
       "      <th>thermal_sensation</th>\n",
       "      <td>0.468746</td>\n",
       "      <td>1.000000</td>\n",
       "    </tr>\n",
       "  </tbody>\n",
       "</table>\n",
       "</div>"
      ],
      "text/plain": [
       "                        top  thermal_sensation\n",
       "top                1.000000           0.468746\n",
       "thermal_sensation  0.468746           1.000000"
      ]
     },
     "execution_count": 171,
     "metadata": {},
     "output_type": "execute_result"
    }
   ],
   "source": [
    "# calculate pearson correlation coefficient\n",
    "df_data_1bldg[['top', 'thermal_sensation']].corr()"
   ]
  },
  {
   "cell_type": "markdown",
   "metadata": {},
   "source": [
    "## Estimation results on every building in the dataset"
   ]
  },
  {
   "cell_type": "markdown",
   "metadata": {},
   "source": [
    "### Two linear regression functions"
   ]
  },
  {
   "cell_type": "code",
   "execution_count": 218,
   "metadata": {},
   "outputs": [],
   "source": [
    "def neutral_temp_a(bldg):\n",
    "    try:\n",
    "        lm_result = smf.ols(formula='thermal_sensation ~ top', data=bldg).fit()\n",
    "        slope = lm_result.params['top']\n",
    "        # check whether the slope is significant\n",
    "        if lm_result.pvalues['top'] < 0.05:\n",
    "            a = lm_result.params['top']\n",
    "            b = lm_result.params['Intercept']\n",
    "            n_t = -b / a\n",
    "            t_80_up = (0.85-b)/a\n",
    "            t_80_low = (-0.85-b)/a\n",
    "            t_90_up = (0.5-b)/a\n",
    "            t_90_low = (-0.5-b)/a\n",
    "            return [slope, n_t, t_80_up, t_80_low, t_90_up, t_90_low]\n",
    "        else:\n",
    "            return np.nan\n",
    "    except (ValueError, TypeError):\n",
    "        return np.nan\n",
    "        \n",
    "def neutral_temp_b(bldg):\n",
    "    try:\n",
    "        lm_result = smf.ols(formula='top ~ thermal_sensation', data=bldg).fit()\n",
    "        slope = lm_result.params['thermal_sensation']\n",
    "        # check whether the slope is significant\n",
    "        if lm_result.pvalues['Intercept'] < 0.05:\n",
    "            a = lm_result.params['thermal_sensation']\n",
    "            b = lm_result.params['Intercept']\n",
    "            n_t = b\n",
    "            t_80_up = 0.85*a + b\n",
    "            t_80_low = (-0.85)*a + b\n",
    "            t_90_up = 0.5*a + b\n",
    "            t_90_low = (-0.5)*a + b\n",
    "            return [slope, n_t, t_80_up, t_80_low, t_90_up, t_90_low]\n",
    "        else:\n",
    "            return np.nan\n",
    "    except (ValueError, TypeError):\n",
    "        return np.nan"
   ]
  },
  {
   "cell_type": "markdown",
   "metadata": {},
   "source": [
    "### estimation for all buildings"
   ]
  },
  {
   "cell_type": "code",
   "execution_count": 237,
   "metadata": {},
   "outputs": [
    {
     "data": {
      "text/html": [
       "<div>\n",
       "<style scoped>\n",
       "    .dataframe tbody tr th:only-of-type {\n",
       "        vertical-align: middle;\n",
       "    }\n",
       "\n",
       "    .dataframe tbody tr th {\n",
       "        vertical-align: top;\n",
       "    }\n",
       "\n",
       "    .dataframe thead th {\n",
       "        text-align: right;\n",
       "    }\n",
       "</style>\n",
       "<table border=\"1\" class=\"dataframe\">\n",
       "  <thead>\n",
       "    <tr style=\"text-align: right;\">\n",
       "      <th></th>\n",
       "      <th>building_id</th>\n",
       "      <th>ta</th>\n",
       "      <th>top</th>\n",
       "      <th>t_out_combined</th>\n",
       "      <th>records</th>\n",
       "      <th>cooling_type</th>\n",
       "      <th>database</th>\n",
       "    </tr>\n",
       "  </thead>\n",
       "  <tbody>\n",
       "    <tr>\n",
       "      <th>0</th>\n",
       "      <td>1</td>\n",
       "      <td>23.062722</td>\n",
       "      <td>23.239679</td>\n",
       "      <td>15.296857</td>\n",
       "      <td>170</td>\n",
       "      <td>Mixed Mode</td>\n",
       "      <td>1.0</td>\n",
       "    </tr>\n",
       "    <tr>\n",
       "      <th>1</th>\n",
       "      <td>2</td>\n",
       "      <td>22.034940</td>\n",
       "      <td>22.283912</td>\n",
       "      <td>13.995833</td>\n",
       "      <td>83</td>\n",
       "      <td>Air Conditioned</td>\n",
       "      <td>1.0</td>\n",
       "    </tr>\n",
       "    <tr>\n",
       "      <th>2</th>\n",
       "      <td>3</td>\n",
       "      <td>23.145098</td>\n",
       "      <td>23.178237</td>\n",
       "      <td>0.583480</td>\n",
       "      <td>85</td>\n",
       "      <td>Air Conditioned</td>\n",
       "      <td>1.0</td>\n",
       "    </tr>\n",
       "    <tr>\n",
       "      <th>3</th>\n",
       "      <td>4</td>\n",
       "      <td>23.700741</td>\n",
       "      <td>23.973630</td>\n",
       "      <td>19.280947</td>\n",
       "      <td>137</td>\n",
       "      <td>Mixed Mode</td>\n",
       "      <td>1.0</td>\n",
       "    </tr>\n",
       "    <tr>\n",
       "      <th>4</th>\n",
       "      <td>5</td>\n",
       "      <td>22.062500</td>\n",
       "      <td>22.095310</td>\n",
       "      <td>9.048210</td>\n",
       "      <td>128</td>\n",
       "      <td>Air Conditioned</td>\n",
       "      <td>1.0</td>\n",
       "    </tr>\n",
       "  </tbody>\n",
       "</table>\n",
       "</div>"
      ],
      "text/plain": [
       "   building_id         ta        top  t_out_combined  records  \\\n",
       "0            1  23.062722  23.239679       15.296857      170   \n",
       "1            2  22.034940  22.283912       13.995833       83   \n",
       "2            3  23.145098  23.178237        0.583480       85   \n",
       "3            4  23.700741  23.973630       19.280947      137   \n",
       "4            5  22.062500  22.095310        9.048210      128   \n",
       "\n",
       "      cooling_type  database  \n",
       "0       Mixed Mode       1.0  \n",
       "1  Air Conditioned       1.0  \n",
       "2  Air Conditioned       1.0  \n",
       "3       Mixed Mode       1.0  \n",
       "4  Air Conditioned       1.0  "
      ]
     },
     "execution_count": 237,
     "metadata": {},
     "output_type": "execute_result"
    }
   ],
   "source": [
    "# Define the columns for which you want to calculate the mean\n",
    "mean_cols = ['ta', 'top', 't_out_combined']\n",
    "# Group by 'building_id' and calculate the mean for all these columns at once\n",
    "df_means = df_data.groupby('building_id')[mean_cols].mean()\n",
    "# Reset the index of df_means to make 'building_id' a column again\n",
    "df_means.reset_index(inplace=True)\n",
    "# Merge df_means with the metadata\n",
    "df_bldg = df_means.merge(df_meta[['building_id', 'records', 'cooling_type', 'database']], on='building_id', how='left')\n",
    "# reset the building cooling type string type\n",
    "df_bldg['cooling_type'] = df_bldg['cooling_type'].str.title()\n",
    "df_bldg.head()"
   ]
  },
  {
   "cell_type": "code",
   "execution_count": 238,
   "metadata": {},
   "outputs": [
    {
     "data": {
      "text/html": [
       "<div>\n",
       "<style scoped>\n",
       "    .dataframe tbody tr th:only-of-type {\n",
       "        vertical-align: middle;\n",
       "    }\n",
       "\n",
       "    .dataframe tbody tr th {\n",
       "        vertical-align: top;\n",
       "    }\n",
       "\n",
       "    .dataframe thead th {\n",
       "        text-align: right;\n",
       "    }\n",
       "</style>\n",
       "<table border=\"1\" class=\"dataframe\">\n",
       "  <thead>\n",
       "    <tr style=\"text-align: right;\">\n",
       "      <th></th>\n",
       "      <th>building_id</th>\n",
       "      <th>ta</th>\n",
       "      <th>top</th>\n",
       "      <th>t_out_combined</th>\n",
       "      <th>records</th>\n",
       "      <th>cooling_type</th>\n",
       "      <th>database</th>\n",
       "      <th>slope_a</th>\n",
       "      <th>slope_b</th>\n",
       "      <th>n_t_a</th>\n",
       "      <th>n_t_b</th>\n",
       "      <th>t_80_up_a</th>\n",
       "      <th>t_80_up_b</th>\n",
       "      <th>t_80_low_a</th>\n",
       "      <th>t_80_low_b</th>\n",
       "      <th>t_90_up_a</th>\n",
       "      <th>t_90_up_b</th>\n",
       "      <th>t_80_diff_a</th>\n",
       "      <th>t_80_diff_b</th>\n",
       "    </tr>\n",
       "  </thead>\n",
       "  <tbody>\n",
       "    <tr>\n",
       "      <th>0</th>\n",
       "      <td>1</td>\n",
       "      <td>23.062722</td>\n",
       "      <td>23.239679</td>\n",
       "      <td>15.296857</td>\n",
       "      <td>170</td>\n",
       "      <td>Mixed Mode</td>\n",
       "      <td>1.0</td>\n",
       "      <td>0.291819</td>\n",
       "      <td>0.752942</td>\n",
       "      <td>21.090334</td>\n",
       "      <td>22.767420</td>\n",
       "      <td>24.003102</td>\n",
       "      <td>23.407421</td>\n",
       "      <td>18.177566</td>\n",
       "      <td>22.127419</td>\n",
       "      <td>22.803727</td>\n",
       "      <td>23.143891</td>\n",
       "      <td>5.825536</td>\n",
       "      <td>1.280002</td>\n",
       "    </tr>\n",
       "    <tr>\n",
       "      <th>1</th>\n",
       "      <td>2</td>\n",
       "      <td>22.034940</td>\n",
       "      <td>22.283912</td>\n",
       "      <td>13.995833</td>\n",
       "      <td>83</td>\n",
       "      <td>Air Conditioned</td>\n",
       "      <td>1.0</td>\n",
       "      <td>0.706530</td>\n",
       "      <td>0.317700</td>\n",
       "      <td>22.386228</td>\n",
       "      <td>22.306879</td>\n",
       "      <td>23.589291</td>\n",
       "      <td>22.576923</td>\n",
       "      <td>21.183165</td>\n",
       "      <td>22.036834</td>\n",
       "      <td>23.093912</td>\n",
       "      <td>22.465728</td>\n",
       "      <td>2.406125</td>\n",
       "      <td>0.540090</td>\n",
       "    </tr>\n",
       "    <tr>\n",
       "      <th>2</th>\n",
       "      <td>3</td>\n",
       "      <td>23.145098</td>\n",
       "      <td>23.178237</td>\n",
       "      <td>0.583480</td>\n",
       "      <td>85</td>\n",
       "      <td>Air Conditioned</td>\n",
       "      <td>1.0</td>\n",
       "      <td>NaN</td>\n",
       "      <td>0.013208</td>\n",
       "      <td>NaN</td>\n",
       "      <td>23.174896</td>\n",
       "      <td>NaN</td>\n",
       "      <td>23.186122</td>\n",
       "      <td>NaN</td>\n",
       "      <td>23.163670</td>\n",
       "      <td>NaN</td>\n",
       "      <td>23.181500</td>\n",
       "      <td>NaN</td>\n",
       "      <td>0.022453</td>\n",
       "    </tr>\n",
       "    <tr>\n",
       "      <th>3</th>\n",
       "      <td>4</td>\n",
       "      <td>23.700741</td>\n",
       "      <td>23.973630</td>\n",
       "      <td>19.280947</td>\n",
       "      <td>137</td>\n",
       "      <td>Mixed Mode</td>\n",
       "      <td>1.0</td>\n",
       "      <td>0.504547</td>\n",
       "      <td>0.495382</td>\n",
       "      <td>23.768091</td>\n",
       "      <td>23.922257</td>\n",
       "      <td>25.452772</td>\n",
       "      <td>24.343332</td>\n",
       "      <td>22.083410</td>\n",
       "      <td>23.501182</td>\n",
       "      <td>24.759080</td>\n",
       "      <td>24.169948</td>\n",
       "      <td>3.369362</td>\n",
       "      <td>0.842150</td>\n",
       "    </tr>\n",
       "    <tr>\n",
       "      <th>4</th>\n",
       "      <td>5</td>\n",
       "      <td>22.062500</td>\n",
       "      <td>22.095310</td>\n",
       "      <td>9.048210</td>\n",
       "      <td>128</td>\n",
       "      <td>Air Conditioned</td>\n",
       "      <td>1.0</td>\n",
       "      <td>NaN</td>\n",
       "      <td>0.137435</td>\n",
       "      <td>NaN</td>\n",
       "      <td>22.104007</td>\n",
       "      <td>NaN</td>\n",
       "      <td>22.220827</td>\n",
       "      <td>NaN</td>\n",
       "      <td>21.987187</td>\n",
       "      <td>NaN</td>\n",
       "      <td>22.172725</td>\n",
       "      <td>NaN</td>\n",
       "      <td>0.233640</td>\n",
       "    </tr>\n",
       "  </tbody>\n",
       "</table>\n",
       "</div>"
      ],
      "text/plain": [
       "   building_id         ta        top  t_out_combined  records  \\\n",
       "0            1  23.062722  23.239679       15.296857      170   \n",
       "1            2  22.034940  22.283912       13.995833       83   \n",
       "2            3  23.145098  23.178237        0.583480       85   \n",
       "3            4  23.700741  23.973630       19.280947      137   \n",
       "4            5  22.062500  22.095310        9.048210      128   \n",
       "\n",
       "      cooling_type  database   slope_a   slope_b      n_t_a      n_t_b  \\\n",
       "0       Mixed Mode       1.0  0.291819  0.752942  21.090334  22.767420   \n",
       "1  Air Conditioned       1.0  0.706530  0.317700  22.386228  22.306879   \n",
       "2  Air Conditioned       1.0       NaN  0.013208        NaN  23.174896   \n",
       "3       Mixed Mode       1.0  0.504547  0.495382  23.768091  23.922257   \n",
       "4  Air Conditioned       1.0       NaN  0.137435        NaN  22.104007   \n",
       "\n",
       "   t_80_up_a  t_80_up_b  t_80_low_a  t_80_low_b  t_90_up_a  t_90_up_b  \\\n",
       "0  24.003102  23.407421   18.177566   22.127419  22.803727  23.143891   \n",
       "1  23.589291  22.576923   21.183165   22.036834  23.093912  22.465728   \n",
       "2        NaN  23.186122         NaN   23.163670        NaN  23.181500   \n",
       "3  25.452772  24.343332   22.083410   23.501182  24.759080  24.169948   \n",
       "4        NaN  22.220827         NaN   21.987187        NaN  22.172725   \n",
       "\n",
       "   t_80_diff_a  t_80_diff_b  \n",
       "0     5.825536     1.280002  \n",
       "1     2.406125     0.540090  \n",
       "2          NaN     0.022453  \n",
       "3     3.369362     0.842150  \n",
       "4          NaN     0.233640  "
      ]
     },
     "execution_count": 238,
     "metadata": {},
     "output_type": "execute_result"
    }
   ],
   "source": [
    "# calculate all temperature values for each building\n",
    "columns_name = ['slope', 'n_t', 't_80_up', 't_80_low', 't_90_up', 't_90_low']\n",
    "for i in range(5):\n",
    "    column = columns_name[i]+\"_a\"\n",
    "    df_bldg[column] = df_data.groupby('building_id').apply(lambda x: neutral_temp_a(x)[i] if neutral_temp_a(x) is not np.nan else np.nan).reset_index(level=0, drop=True)\n",
    "    column = columns_name[i]+\"_b\"\n",
    "    df_bldg[column] = df_data.groupby('building_id').apply(lambda x: neutral_temp_b(x)[i] if neutral_temp_b(x) is not np.nan else np.nan).reset_index(level=0, drop=True)\n",
    "\n",
    "# calculate the mean of the absolute difference between t_80_up_a and t_80_low_a\n",
    "df_bldg['t_80_diff_a'] = df_bldg['t_80_up_a'] - df_bldg['t_80_low_a']\n",
    "df_bldg['t_80_diff_b'] = df_bldg['t_80_up_b'] - df_bldg['t_80_low_b']\n",
    "\n",
    "df_bldg.head()"
   ]
  },
  {
   "cell_type": "markdown",
   "metadata": {},
   "source": [
    "does a negative relationship reasonable?"
   ]
  },
  {
   "cell_type": "code",
   "execution_count": 281,
   "metadata": {},
   "outputs": [
    {
     "data": {
      "text/html": [
       "<div>\n",
       "<style scoped>\n",
       "    .dataframe tbody tr th:only-of-type {\n",
       "        vertical-align: middle;\n",
       "    }\n",
       "\n",
       "    .dataframe tbody tr th {\n",
       "        vertical-align: top;\n",
       "    }\n",
       "\n",
       "    .dataframe thead th {\n",
       "        text-align: right;\n",
       "    }\n",
       "</style>\n",
       "<table border=\"1\" class=\"dataframe\">\n",
       "  <thead>\n",
       "    <tr style=\"text-align: right;\">\n",
       "      <th></th>\n",
       "      <th>building_id</th>\n",
       "      <th>ta</th>\n",
       "      <th>top</th>\n",
       "      <th>t_out_combined</th>\n",
       "      <th>records</th>\n",
       "      <th>cooling_type</th>\n",
       "      <th>database</th>\n",
       "      <th>slope_a</th>\n",
       "      <th>slope_b</th>\n",
       "      <th>n_t_a</th>\n",
       "      <th>n_t_b</th>\n",
       "      <th>t_80_up_a</th>\n",
       "      <th>t_80_up_b</th>\n",
       "      <th>t_80_low_a</th>\n",
       "      <th>t_80_low_b</th>\n",
       "      <th>t_90_up_a</th>\n",
       "      <th>t_90_up_b</th>\n",
       "      <th>t_80_diff_a</th>\n",
       "      <th>t_80_diff_b</th>\n",
       "    </tr>\n",
       "  </thead>\n",
       "  <tbody>\n",
       "  </tbody>\n",
       "</table>\n",
       "</div>"
      ],
      "text/plain": [
       "Empty DataFrame\n",
       "Columns: [building_id, ta, top, t_out_combined, records, cooling_type, database, slope_a, slope_b, n_t_a, n_t_b, t_80_up_a, t_80_up_b, t_80_low_a, t_80_low_b, t_90_up_a, t_90_up_b, t_80_diff_a, t_80_diff_b]\n",
       "Index: []"
      ]
     },
     "execution_count": 281,
     "metadata": {},
     "output_type": "execute_result"
    }
   ],
   "source": [
    "# identify less than 0 values in slope_a and slope_b\n",
    "df_bldg[df_bldg['slope_a'] < 0]\n"
   ]
  },
  {
   "cell_type": "code",
   "execution_count": 282,
   "metadata": {},
   "outputs": [
    {
     "data": {
      "text/html": [
       "<div>\n",
       "<style scoped>\n",
       "    .dataframe tbody tr th:only-of-type {\n",
       "        vertical-align: middle;\n",
       "    }\n",
       "\n",
       "    .dataframe tbody tr th {\n",
       "        vertical-align: top;\n",
       "    }\n",
       "\n",
       "    .dataframe thead th {\n",
       "        text-align: right;\n",
       "    }\n",
       "</style>\n",
       "<table border=\"1\" class=\"dataframe\">\n",
       "  <thead>\n",
       "    <tr style=\"text-align: right;\">\n",
       "      <th></th>\n",
       "      <th>building_id</th>\n",
       "      <th>ta</th>\n",
       "      <th>top</th>\n",
       "      <th>t_out_combined</th>\n",
       "      <th>records</th>\n",
       "      <th>cooling_type</th>\n",
       "      <th>database</th>\n",
       "      <th>slope_a</th>\n",
       "      <th>slope_b</th>\n",
       "      <th>n_t_a</th>\n",
       "      <th>n_t_b</th>\n",
       "      <th>t_80_up_a</th>\n",
       "      <th>t_80_up_b</th>\n",
       "      <th>t_80_low_a</th>\n",
       "      <th>t_80_low_b</th>\n",
       "      <th>t_90_up_a</th>\n",
       "      <th>t_90_up_b</th>\n",
       "      <th>t_80_diff_a</th>\n",
       "      <th>t_80_diff_b</th>\n",
       "    </tr>\n",
       "  </thead>\n",
       "  <tbody>\n",
       "  </tbody>\n",
       "</table>\n",
       "</div>"
      ],
      "text/plain": [
       "Empty DataFrame\n",
       "Columns: [building_id, ta, top, t_out_combined, records, cooling_type, database, slope_a, slope_b, n_t_a, n_t_b, t_80_up_a, t_80_up_b, t_80_low_a, t_80_low_b, t_90_up_a, t_90_up_b, t_80_diff_a, t_80_diff_b]\n",
       "Index: []"
      ]
     },
     "execution_count": 282,
     "metadata": {},
     "output_type": "execute_result"
    }
   ],
   "source": [
    "df_bldg[df_bldg['slope_b'] < 0]"
   ]
  },
  {
   "cell_type": "code",
   "execution_count": 244,
   "metadata": {},
   "outputs": [],
   "source": [
    "# create a buliding id list for buildings with negative slope_a or slope_b\n",
    "bldg_id_neg = df_bldg[(df_bldg['slope_a'] < 0) | (df_bldg['slope_b'] < 0)]['building_id'].tolist()"
   ]
  },
  {
   "cell_type": "code",
   "execution_count": 245,
   "metadata": {},
   "outputs": [],
   "source": [
    "# remove the buildings of bldg_id_neg from df_bldg\n",
    "df_bldg = df_bldg[~df_bldg['building_id'].isin(bldg_id_neg)].copy()"
   ]
  },
  {
   "cell_type": "code",
   "execution_count": 278,
   "metadata": {},
   "outputs": [
    {
     "name": "stdout",
     "output_type": "stream",
     "text": [
      "regressing thermal sensation against operative temperature\n",
      "number of buildings that have statistical significant neutral temperature: 210\n",
      "number of naturally ventilated buildings that have statistical significant neutral temperature: 70\n",
      "number of air conditioned buildings that have statistical significant neutral temperature: 85\n"
     ]
    }
   ],
   "source": [
    "# get rid of all nan values in the n_t_a column\n",
    "df_bldg_sig_a = df_bldg[~df_bldg['n_t_a'].isna()]\n",
    "\n",
    "print('regressing thermal sensation against operative temperature')\n",
    "print('number of buildings that have statistical significant neutral temperature:', len(df_bldg_sig_a))\n",
    "\n",
    "df_bldg_nv_a = df_bldg_sig_a[df_bldg_sig_a['cooling_type'] == 'Naturally Ventilated']\n",
    "print('number of naturally ventilated buildings that have statistical significant neutral temperature:', len(df_bldg_nv_a))\n",
    "\n",
    "df_bldg_ac_a = df_bldg_sig_a[df_bldg_sig_a['cooling_type'] == 'Air Conditioned']\n",
    "print('number of air conditioned buildings that have statistical significant neutral temperature:', len(df_bldg_ac_a))"
   ]
  },
  {
   "cell_type": "code",
   "execution_count": 279,
   "metadata": {},
   "outputs": [
    {
     "name": "stdout",
     "output_type": "stream",
     "text": [
      "regressing operative temperature against thermal sensation\n",
      "number of buildings that have statistical significant neutral temperature: 419\n",
      "number of naturally ventilated buildings that have statistical significant neutral temperature: 149\n",
      "number of air conditioned buildings that have statistical significant neutral temperature: 146\n"
     ]
    }
   ],
   "source": [
    "# get rid of all nan values in the n_t_b column\n",
    "df_bldg_sig_b = df_bldg[~df_bldg['n_t_b'].isna()]\n",
    "\n",
    "print('regressing operative temperature against thermal sensation')\n",
    "print('number of buildings that have statistical significant neutral temperature:', len(df_bldg_sig_b))\n",
    "\n",
    "df_bldg_nv_b = df_bldg_sig_b[df_bldg_sig_b['cooling_type'] == 'Naturally Ventilated']\n",
    "print('number of naturally ventilated buildings that have statistical significant neutral temperature:', len(df_bldg_nv_b))\n",
    "\n",
    "df_bldg_ac_b = df_bldg_sig_b[df_bldg_sig_b['cooling_type'] == 'Air Conditioned']\n",
    "print('number of air conditioned buildings that have statistical significant neutral temperature:', len(df_bldg_ac_b))"
   ]
  },
  {
   "cell_type": "markdown",
   "metadata": {},
   "source": [
    "neutral temeprature comparasion"
   ]
  },
  {
   "cell_type": "code",
   "execution_count": 248,
   "metadata": {},
   "outputs": [
    {
     "name": "stdout",
     "output_type": "stream",
     "text": [
      "n_t_a\n",
      "count    210.000000\n",
      "mean      24.427157\n",
      "std        2.847115\n",
      "min       19.021124\n",
      "25%       22.575175\n",
      "50%       23.878357\n",
      "75%       25.981671\n",
      "max       33.242804\n",
      "Name: n_t_a, dtype: float64\n",
      "n_t_b\n",
      "count    419.000000\n",
      "mean      25.020256\n",
      "std        4.279574\n",
      "min        6.316000\n",
      "25%       22.668479\n",
      "50%       24.027941\n",
      "75%       28.644485\n",
      "max       35.490000\n",
      "Name: n_t_b, dtype: float64\n"
     ]
    },
    {
     "data": {
      "image/png": "[encoded data removed]",
      "text/plain": [
       "<Figure size 720x504 with 1 Axes>"
      ]
     },
     "metadata": {
      "needs_background": "light"
     },
     "output_type": "display_data"
    }
   ],
   "source": [
    "# boxplot of n_t_a in df_bldg_sig_a and n_t_b and in df_bldg_sig_b, don't show outliers\n",
    "\n",
    "plt.figure(figsize=(10, 7))\n",
    "sns.boxplot(data=[df_bldg_sig_a['n_t_a'], df_bldg_sig_b['n_t_b']], palette='Set2', showfliers=False)\n",
    "# print boxplot summary statistics\n",
    "print('n_t_a')\n",
    "print(df_bldg_sig_a['n_t_a'].describe())\n",
    "print('n_t_b')\n",
    "print(df_bldg_sig_b['n_t_b'].describe())\n",
    "\n",
    "plt.ylabel('Neutral Temperature (°C)', rotation=90, fontsize=20)\n",
    "plt.xticks([0, 1], ['Method (a)', 'Method (b)'], fontsize=20)\n",
    "plt.yticks(fontsize=20)\n",
    "plt.grid(False)\n",
    "plt.show()"
   ]
  },
  {
   "cell_type": "code",
   "execution_count": 280,
   "metadata": {},
   "outputs": [
    {
     "name": "stdout",
     "output_type": "stream",
     "text": [
      "n_t_a\n",
      "count    70.000000\n",
      "mean     24.289955\n",
      "std       3.147114\n",
      "min      19.021124\n",
      "25%      22.052439\n",
      "50%      23.966312\n",
      "75%      26.418541\n",
      "max      33.242804\n",
      "Name: n_t_a, dtype: float64\n",
      "n_t_b\n",
      "count    149.000000\n",
      "mean      26.865683\n",
      "std        4.615842\n",
      "min        6.316000\n",
      "25%       23.930189\n",
      "50%       27.931429\n",
      "75%       30.307500\n",
      "max       35.490000\n",
      "Name: n_t_b, dtype: float64\n"
     ]
    },
    {
     "data": {
      "image/png": "[encoded data removed]",
      "text/plain": [
       "<Figure size 720x504 with 1 Axes>"
      ]
     },
     "metadata": {
      "needs_background": "light"
     },
     "output_type": "display_data"
    }
   ],
   "source": [
    "# NV buildings\n",
    "plt.figure(figsize=(10, 7))\n",
    "sns.boxplot(data=[df_bldg_nv_a['n_t_a'], df_bldg_nv_b['n_t_b']], palette='Set2', showfliers=False)\n",
    "# print boxplot summary statistics\n",
    "print('n_t_a')\n",
    "print(df_bldg_nv_a['n_t_a'].describe())\n",
    "print('n_t_b')\n",
    "print(df_bldg_nv_b['n_t_b'].describe())\n",
    "\n",
    "plt.ylabel('NV buildings Neutral Temperature (°C)', rotation=90, fontsize=20)\n",
    "plt.xticks([0, 1], ['Method (a)', 'Method (b)'], fontsize=20)\n",
    "plt.yticks(fontsize=20)\n",
    "plt.grid(False)\n",
    "plt.show()"
   ]
  },
  {
   "cell_type": "code",
   "execution_count": 250,
   "metadata": {},
   "outputs": [
    {
     "name": "stdout",
     "output_type": "stream",
     "text": [
      "n_t_a\n",
      "count    85.000000\n",
      "mean     23.926550\n",
      "std       1.484819\n",
      "min      21.535360\n",
      "25%      22.979321\n",
      "50%      23.860139\n",
      "75%      24.345989\n",
      "max      31.830522\n",
      "Name: n_t_a, dtype: float64\n",
      "n_t_b\n",
      "count    146.000000\n",
      "mean      23.194457\n",
      "std        1.716078\n",
      "min       12.775000\n",
      "25%       22.685217\n",
      "50%       23.335666\n",
      "75%       23.909456\n",
      "max       27.763548\n",
      "Name: n_t_b, dtype: float64\n"
     ]
    },
    {
     "data": {
      "image/png": "[encoded data removed]",
      "text/plain": [
       "<Figure size 720x504 with 1 Axes>"
      ]
     },
     "metadata": {
      "needs_background": "light"
     },
     "output_type": "display_data"
    }
   ],
   "source": [
    "# AC buildings\n",
    "plt.figure(figsize=(10, 7))\n",
    "sns.boxplot(data=[df_bldg_ac_a['n_t_a'], df_bldg_ac_b['n_t_b']], palette='Set2', showfliers=False)\n",
    "# print boxplot summary statistics\n",
    "print('n_t_a')\n",
    "print(df_bldg_ac_a['n_t_a'].describe())\n",
    "print('n_t_b')\n",
    "print(df_bldg_ac_b['n_t_b'].describe())\n",
    "\n",
    "plt.ylabel('AC buildings Neutral Temperature (°C)', rotation=90, fontsize=20)\n",
    "plt.xticks([0, 1], ['Method (a)', 'Method (b)'], fontsize=20)\n",
    "plt.yticks(fontsize=20)\n",
    "plt.grid(False)\n",
    "plt.show()"
   ]
  },
  {
   "cell_type": "markdown",
   "metadata": {},
   "source": [
    "acceptable temeprature range comparasion"
   ]
  },
  {
   "cell_type": "code",
   "execution_count": 251,
   "metadata": {},
   "outputs": [
    {
     "name": "stdout",
     "output_type": "stream",
     "text": [
      "t_80_up_a\n",
      "count    210.000000\n",
      "mean      27.668742\n",
      "std        3.412919\n",
      "min       21.911428\n",
      "25%       25.163584\n",
      "50%       26.524534\n",
      "75%       29.920540\n",
      "max       38.821606\n",
      "Name: t_80_up_a, dtype: float64\n",
      "t_80_up_b\n",
      "count    419.000000\n",
      "mean      25.847155\n",
      "std        4.059909\n",
      "min       13.100000\n",
      "25%       23.155882\n",
      "50%       24.749994\n",
      "75%       29.530660\n",
      "max       35.490000\n",
      "Name: t_80_up_b, dtype: float64\n"
     ]
    },
    {
     "data": {
      "image/png": "[encoded data removed]",
      "text/plain": [
       "<Figure size 720x504 with 1 Axes>"
      ]
     },
     "metadata": {
      "needs_background": "light"
     },
     "output_type": "display_data"
    }
   ],
   "source": [
    "# boxplot of t_80_up_a in df_bldg_sig_a and t_80_up_b and in df_bldg_sig_b, don't show outliers\n",
    "\n",
    "plt.figure(figsize=(10, 7))\n",
    "sns.boxplot(data=[df_bldg_sig_a['t_80_up_a'], df_bldg_sig_b['t_80_up_b']], palette='Set2', showfliers=False)\n",
    "# print boxplot summary statistics\n",
    "print('t_80_up_a')\n",
    "print(df_bldg_sig_a['t_80_up_a'].describe())\n",
    "print('t_80_up_b')\n",
    "print(df_bldg_sig_b['t_80_up_b'].describe())\n",
    "\n",
    "plt.ylabel('Upper Limit of 80% Temperature Range (°C)', rotation=90, fontsize=20)\n",
    "plt.xticks([0, 1], ['Method (a)', 'Method (b)'], fontsize=20)\n",
    "plt.yticks(fontsize=20)\n",
    "plt.grid(False)\n",
    "plt.show()"
   ]
  },
  {
   "cell_type": "code",
   "execution_count": 252,
   "metadata": {},
   "outputs": [
    {
     "name": "stdout",
     "output_type": "stream",
     "text": [
      "t_80_low_a\n",
      "count    210.000000\n",
      "mean      21.185572\n",
      "std        3.862306\n",
      "min        4.465876\n",
      "25%       19.191383\n",
      "50%       21.601877\n",
      "75%       23.125084\n",
      "max       29.146479\n",
      "Name: t_80_low_a, dtype: float64\n",
      "t_80_low_b\n",
      "count    419.000000\n",
      "mean      24.193357\n",
      "std        4.922602\n",
      "min       -4.421200\n",
      "25%       22.099099\n",
      "50%       23.635752\n",
      "75%       27.708662\n",
      "max       35.490000\n",
      "Name: t_80_low_b, dtype: float64\n"
     ]
    },
    {
     "data": {
      "image/png": "[encoded data removed]",
      "text/plain": [
       "<Figure size 720x504 with 1 Axes>"
      ]
     },
     "metadata": {
      "needs_background": "light"
     },
     "output_type": "display_data"
    }
   ],
   "source": [
    "# boxplot of t_80_low_a in df_bldg_sig_a and t_80_low_b and in df_bldg_sig_b, don't show outliers\n",
    "\n",
    "plt.figure(figsize=(10, 7))\n",
    "sns.boxplot(data=[df_bldg_sig_a['t_80_low_a'], df_bldg_sig_b['t_80_low_b']], palette='Set2', showfliers=False)\n",
    "# print boxplot summary statistics\n",
    "print('t_80_low_a')\n",
    "print(df_bldg_sig_a['t_80_low_a'].describe())\n",
    "print('t_80_low_b')\n",
    "print(df_bldg_sig_b['t_80_low_b'].describe())\n",
    "\n",
    "plt.ylabel('Lower Limit of 80% Temperature Range (°C)', rotation=90, fontsize=20)\n",
    "plt.xticks([0, 1], ['Method (a)', 'Method (b)'], fontsize=20)\n",
    "plt.yticks(fontsize=20)\n",
    "plt.grid(False)\n",
    "plt.show()"
   ]
  },
  {
   "cell_type": "code",
   "execution_count": 253,
   "metadata": {},
   "outputs": [
    {
     "name": "stdout",
     "output_type": "stream",
     "text": [
      "t_80_diff_a\n",
      "count    210.000000\n",
      "mean       6.483170\n",
      "std        4.550449\n",
      "min        0.034000\n",
      "25%        3.419248\n",
      "50%        5.435545\n",
      "75%        8.369759\n",
      "max       29.110494\n",
      "Name: t_80_diff_a, dtype: float64\n",
      "t_80_diff_b\n",
      "count    419.000000\n",
      "mean       1.653798\n",
      "std        2.858450\n",
      "min        0.000000\n",
      "25%        0.220282\n",
      "50%        0.701523\n",
      "75%        2.082594\n",
      "max       26.422250\n",
      "Name: t_80_diff_b, dtype: float64\n"
     ]
    },
    {
     "data": {
      "image/png": "[encoded data removed]",
      "text/plain": [
       "<Figure size 720x504 with 1 Axes>"
      ]
     },
     "metadata": {
      "needs_background": "light"
     },
     "output_type": "display_data"
    }
   ],
   "source": [
    "# boxplot of t_80_diff_a in df_bldg_sig_a and t_80_diff_b in df_bldg_sig_b, don't show outliers\n",
    "plt.figure(figsize=(10, 7))\n",
    "sns.boxplot(data=[df_bldg_sig_a['t_80_diff_a'], df_bldg_sig_b['t_80_diff_b']], palette='Set2', showfliers=False)\n",
    "# print boxplot summary statistics\n",
    "print('t_80_diff_a')\n",
    "print(df_bldg_sig_a['t_80_diff_a'].describe())\n",
    "print('t_80_diff_b')\n",
    "print(df_bldg_sig_b['t_80_diff_b'].describe())\n",
    "\n",
    "plt.ylabel('Acceptable Temperature Range(°C)', rotation=90, fontsize=20)\n",
    "plt.xticks([0, 1], ['Method (a)', 'Method (b)'], fontsize=20)\n",
    "plt.yticks(fontsize=20)\n",
    "plt.grid(False)\n",
    "plt.show()\n"
   ]
  },
  {
   "cell_type": "code",
   "execution_count": null,
   "metadata": {},
   "outputs": [],
   "source": [
    "# how many buildings have a negative coefficient for the regression of thermal sensation against temperature\n"
   ]
  },
  {
   "cell_type": "markdown",
   "metadata": {},
   "source": [
    "## Adaptive comfort model (natural ventilated buildings?)"
   ]
  },
  {
   "cell_type": "markdown",
   "metadata": {},
   "source": [
    "### Weighted regression function"
   ]
  },
  {
   "cell_type": "code",
   "execution_count": 254,
   "metadata": {},
   "outputs": [],
   "source": [
    "def weighted_regression(x, y, weights):\n",
    "    X = sm.add_constant(x)\n",
    "    model = sm.WLS(y, X, weights=weights).fit()\n",
    "    intercept, slope = model.params\n",
    "    # print p value of slope\n",
    "    print('the p value of slope is {:.3f}'.format(model.pvalues[1]))\n",
    "    print('the weigted regression fitted line slope (a) a is {:.2f}'.format(slope))\n",
    "    print('the weigted regression fitted line intercept (b) is {:.2f}'.format(intercept))\n",
    "    return intercept, slope"
   ]
  },
  {
   "cell_type": "code",
   "execution_count": 255,
   "metadata": {},
   "outputs": [
    {
     "name": "stdout",
     "output_type": "stream",
     "text": [
      "neutral temperature line\n",
      "the p value of slope is 0.000\n",
      "the weigted regression fitted line slope (a) a is 0.29\n",
      "the weigted regression fitted line intercept (b) is 18.00\n"
     ]
    },
    {
     "data": {
      "text/plain": [
       "(17.998538214485933, 0.2909233476943448)"
      ]
     },
     "execution_count": 255,
     "metadata": {},
     "output_type": "execute_result"
    }
   ],
   "source": [
    "print(\"neutral temperature line\")\n",
    "weighted_regression(df_bldg_nv_a['t_out_combined'], df_bldg_nv_a['n_t_a'], df_bldg_nv_a['records'])"
   ]
  },
  {
   "cell_type": "markdown",
   "metadata": {},
   "source": [
    "method a"
   ]
  },
  {
   "cell_type": "code",
   "execution_count": 267,
   "metadata": {},
   "outputs": [
    {
     "name": "stdout",
     "output_type": "stream",
     "text": [
      "the p value of slope is 0.000\n",
      "the weigted regression fitted line slope (a) a is 0.25\n",
      "the weigted regression fitted line intercept (b) is 22.76\n",
      "the p value of slope is 0.000\n",
      "the weigted regression fitted line slope (a) a is 0.33\n",
      "the weigted regression fitted line intercept (b) is 13.24\n"
     ]
    }
   ],
   "source": [
    "up_a_intercept, up_a_slope = weighted_regression(df_bldg_nv_a['t_out_combined'], df_bldg_nv_a['t_80_up_a'], df_bldg_nv_a['records'])\n",
    "low_a_intercept, low_a_slope= weighted_regression(df_bldg_nv_a['t_out_combined'], df_bldg_nv_a['t_80_low_a'], df_bldg_nv_a['records'])"
   ]
  },
  {
   "cell_type": "code",
   "execution_count": 277,
   "metadata": {},
   "outputs": [
    {
     "data": {
      "text/plain": [
       "60     29.404783\n",
       "61     29.103328\n",
       "62     29.135325\n",
       "63     29.276961\n",
       "84     27.676383\n",
       "         ...    \n",
       "524    26.660775\n",
       "533    26.941490\n",
       "534    25.748399\n",
       "551    25.247033\n",
       "552    24.593821\n",
       "Name: t_out_combined, Length: 70, dtype: float64"
      ]
     },
     "execution_count": 277,
     "metadata": {},
     "output_type": "execute_result"
    }
   ],
   "source": [
    "up_a_slope*df_bldg_nv_a['t_out_combined']+up_a_intercept"
   ]
  },
  {
   "cell_type": "code",
   "execution_count": 320,
   "metadata": {},
   "outputs": [
    {
     "data": {
      "text/plain": [
       "(14.0, 32.0)"
      ]
     },
     "execution_count": 320,
     "metadata": {},
     "output_type": "execute_result"
    },
    {
     "data": {
      "text/plain": [
       "<Figure size 720x504 with 0 Axes>"
      ]
     },
     "metadata": {},
     "output_type": "display_data"
    },
    {
     "data": {
      "image/png": "[encoded data removed]",
      "text/plain": [
       "<Figure size 720x504 with 1 Axes>"
      ]
     },
     "metadata": {
      "needs_background": "light"
     },
     "output_type": "display_data"
    }
   ],
   "source": [
    "# plot two lines, one with the up_a_slope and up_a_intercept, and another with the low_a_slope and low_a_intercept\n",
    "plt.figure(figsize=(10, 7))\n",
    "t_out_combined = np.array(df_bldg_nv_a['t_out_combined'])\n",
    "sort_index = np.argsort(t_out_combined)\n",
    "t_out_combined = t_out_combined[sort_index]\n",
    "up_line = (up_a_slope*t_out_combined + up_a_intercept)[sort_index]\n",
    "low_line = (low_a_slope*t_out_combined + low_a_intercept)[sort_index]\n",
    "\n",
    "# draw grey band between the two lines\n",
    "plt.figure(figsize=(10, 7))\n",
    "plt.plot(t_out_combined, up_a_slope*t_out_combined+up_a_intercept, color='black', linewidth=2)\n",
    "plt.plot(t_out_combined, low_a_slope*t_out_combined+low_a_intercept, color='black', linewidth=2)\n",
    "plt.fill_between(t_out_combined, up_a_slope*t_out_combined+up_a_intercept, low_a_slope*t_out_combined+low_a_intercept, color='grey', alpha=0.5)\n",
    "plt.xlabel('Prevailing mean outdoor air temperature (°C)', fontsize=25)\n",
    "plt.ylabel('Indoor operative temperature (°C)', rotation=90, fontsize=25)\n",
    "plt.xticks(fontsize=20)\n",
    "plt.yticks(fontsize=20)\n",
    "plt.grid(True)\n",
    "\n",
    "# set the x-axis range from 5 to 35 and y-axis range from 14 to 32\n",
    "plt.xlim(0, 35)\n",
    "plt.ylim(14, 32)\n"
   ]
  },
  {
   "cell_type": "markdown",
   "metadata": {},
   "source": [
    "method b"
   ]
  },
  {
   "cell_type": "code",
   "execution_count": null,
   "metadata": {},
   "outputs": [],
   "source": []
  },
  {
   "cell_type": "code",
   "execution_count": 290,
   "metadata": {},
   "outputs": [
    {
     "name": "stdout",
     "output_type": "stream",
     "text": [
      "the p value of slope is 0.000\n",
      "the weigted regression fitted line slope (a) a is 0.46\n",
      "the weigted regression fitted line intercept (b) is 16.47\n",
      "the p value of slope is 0.000\n",
      "the weigted regression fitted line slope (a) a is 0.42\n",
      "the weigted regression fitted line intercept (b) is 15.95\n"
     ]
    }
   ],
   "source": [
    "up_b_intercept, up_b_slope = weighted_regression(df_bldg_nv_b['t_out_combined'], df_bldg_nv_b['t_80_up_b'], df_bldg_nv_b['records'])\n",
    "low_b_intercept, low_b_slope= weighted_regression(df_bldg_nv_b['t_out_combined'], df_bldg_nv_b['t_80_low_b'], df_bldg_nv_b['records'])"
   ]
  },
  {
   "cell_type": "code",
   "execution_count": 321,
   "metadata": {},
   "outputs": [
    {
     "data": {
      "text/plain": [
       "(14.0, 32.0)"
      ]
     },
     "execution_count": 321,
     "metadata": {},
     "output_type": "execute_result"
    },
    {
     "data": {
      "text/plain": [
       "<Figure size 720x504 with 0 Axes>"
      ]
     },
     "metadata": {},
     "output_type": "display_data"
    },
    {
     "data": {
      "image/png": "[encoded data removed]",
      "text/plain": [
       "<Figure size 720x504 with 1 Axes>"
      ]
     },
     "metadata": {
      "needs_background": "light"
     },
     "output_type": "display_data"
    }
   ],
   "source": [
    "# plot two lines, one with the up_b_slope and up_b_intercept, and another with the low_b_slope and low_b_intercept\n",
    "plt.figure(figsize=(10, 7))\n",
    "t_out_combined = np.array(df_bldg_nv_b['t_out_combined'])\n",
    "sort_index = np.argsort(t_out_combined)\n",
    "t_out_combined = t_out_combined[sort_index]\n",
    "up_line = (up_b_slope*t_out_combined + up_b_intercept)[sort_index]\n",
    "low_line = (low_b_slope*t_out_combined + low_b_intercept)[sort_index]\n",
    "\n",
    "# draw grey band between the two lines\n",
    "plt.figure(figsize=(10, 7))\n",
    "plt.plot(t_out_combined, up_b_slope*t_out_combined+up_b_intercept, color='black', linewidth=2)\n",
    "plt.plot(t_out_combined, low_b_slope*t_out_combined+low_b_intercept, color='black', linewidth=2)\n",
    "plt.fill_between(t_out_combined, up_b_slope*t_out_combined+up_b_intercept, low_b_slope*t_out_combined+low_b_intercept, color='grey', alpha=0.5)\n",
    "plt.xlabel('Prevailing mean outdoor air temperature (°C)', fontsize=25)\n",
    "plt.ylabel('Indoor operative temperature (°C)', rotation=90, fontsize=25)\n",
    "plt.xticks(fontsize=20)\n",
    "plt.yticks(fontsize=20)\n",
    "plt.grid(True)\n",
    "# set the x-axis range from 5 to 35 and y-axis range from 14 to 32\n",
    "plt.xlim(0, 35)\n",
    "plt.ylim(14, 32)\n",
    "\n"
   ]
  },
  {
   "cell_type": "code",
   "execution_count": 293,
   "metadata": {},
   "outputs": [
    {
     "name": "stdout",
     "output_type": "stream",
     "text": [
      "the range of t_out_combined is (4.9 ~ 33.2)\n"
     ]
    }
   ],
   "source": [
    "# print the range of t_out_combined\n",
    "print('the range of t_out_combined is ({:.1f}'.format(df_bldg_nv_b['t_out_combined'].min()), '~ {:.1f})'.format(df_bldg_nv_b['t_out_combined'].max()))"
   ]
  }
 ],
 "metadata": {
  "kernelspec": {
   "display_name": "Python 3",
   "language": "python",
   "name": "python3"
  },
  "language_info": {
   "codemirror_mode": {
    "name": "ipython",
    "version": 3
   },
   "file_extension": ".py",
   "mimetype": "text/x-python",
   "name": "python",
   "nbconvert_exporter": "python",
   "pygments_lexer": "ipython3",
   "version": "3.8.5"
  },
  "orig_nbformat": 4
 },
 "nbformat": 4,
 "nbformat_minor": 2
}
