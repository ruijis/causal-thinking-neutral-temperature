{
 "cells": [
  {
   "cell_type": "markdown",
   "metadata": {},
   "source": [
    "# Causal thinking  ...\n",
    "Ruiji"
   ]
  },
  {
   "cell_type": "code",
   "execution_count": 2,
   "metadata": {},
   "outputs": [],
   "source": [
    "# Import required libraries\n",
    "import pandas as pd\n",
    "import numpy as np\n",
    "import seaborn as sns\n",
    "import matplotlib.pyplot as plt\n",
    "import statsmodels.formula.api as smf\n",
    "import statsmodels.api as sm"
   ]
  },
  {
   "cell_type": "markdown",
   "metadata": {},
   "source": [
    "## Data Preparation"
   ]
  },
  {
   "cell_type": "markdown",
   "metadata": {},
   "source": [
    "### Import ASHRAE Thermal Comfort Database 2"
   ]
  },
  {
   "cell_type": "code",
   "execution_count": 3,
   "metadata": {},
   "outputs": [
    {
     "name": "stdout",
     "output_type": "stream",
     "text": [
      "Total buildings: 809\n",
      "Total records: 109033\n"
     ]
    },
    {
     "name": "stderr",
     "output_type": "stream",
     "text": [
      "/var/folders/v0/03v41tbn7072cjr0b3ddfgjw0000gn/T/ipykernel_6625/1041017263.py:7: DtypeWarning: Columns (5,35,36) have mixed types. Specify dtype option on import or set low_memory=False.\n",
      "  df_measurements = pd.read_csv(url_measurements)\n"
     ]
    }
   ],
   "source": [
    "# Read metadata from Github\n",
    "url_meta = \"https://github.com/CenterForTheBuiltEnvironment/ashrae-db-II/raw/master/v2.1.0/db_metadata.csv\"\n",
    "df_meta = pd.read_csv(url_meta)\n",
    "\n",
    "# Read database from Github\n",
    "url_measurements = \"https://github.com/CenterForTheBuiltEnvironment/ashrae-db-II/raw/master/v2.1.0/db_measurements_v2.1.0.csv.gz\"\n",
    "df_measurements = pd.read_csv(url_measurements)\n",
    "\n",
    "# Merge building metadata and measurement data\n",
    "df_rawdata = df_measurements.merge(df_meta[['building_id', 'city', 'building_type', 'cooling_type', 'records', 'database']], on='building_id', how='left')\n",
    "\n",
    "print('Total buildings:', len(df_rawdata.building_id.unique()))\n",
    "print('Total records:', len(df_rawdata))"
   ]
  },
  {
   "cell_type": "markdown",
   "metadata": {},
   "source": [
    "### Clean outdoor air temperature data"
   ]
  },
  {
   "cell_type": "code",
   "execution_count": 4,
   "metadata": {},
   "outputs": [],
   "source": [
    "# Merge two outdoor air temperature columns as a new column\n",
    "df_rawdata.loc[:, 't_out_combined'] = df_rawdata.loc[:, 't_out_isd'].fillna(df_rawdata.loc[:, 't_out'])\n",
    "\n",
    "# Remove the two outdoor air temperature columns\n",
    "df_rawdata = df_rawdata.drop(columns=['t_out_isd', 't_out'])"
   ]
  },
  {
   "cell_type": "markdown",
   "metadata": {},
   "source": [
    "### Filter out buildings that have required data"
   ]
  },
  {
   "cell_type": "code",
   "execution_count": 5,
   "metadata": {},
   "outputs": [
    {
     "name": "stdout",
     "output_type": "stream",
     "text": [
      "Qualified buildings: 570\n",
      "Qualified records: 34313\n"
     ]
    }
   ],
   "source": [
    "# Keep rows that simultaneously have data for all variables in cols \n",
    "def filter(df, cols):\n",
    "    df_qualifed = df.dropna(subset=cols)\n",
    "    print(f'Qualified buildings:', len(df_qualifed['building_id'].unique()))\n",
    "    print(f'Qualified records:', len(df_qualifed))\n",
    "    return df_qualifed\n",
    "\n",
    "# Keep rows that simultaneously have data for all variables in cols\n",
    "cols_1 = ['t_out_combined', 'set', 'thermal_sensation']\n",
    "df_data = filter(df_rawdata, cols_1).copy()"
   ]
  },
  {
   "cell_type": "markdown",
   "metadata": {},
   "source": [
    "## Analysis on Single Building"
   ]
  },
  {
   "cell_type": "code",
   "execution_count": 6,
   "metadata": {},
   "outputs": [
    {
     "name": "stdout",
     "output_type": "stream",
     "text": [
      "field study period: 1995-05-18T00:00:00Z 1995-08-25T00:00:00Z\n",
      "field study location: ['sydney']\n",
      "building type: ['office']\n",
      "cooling type: ['mixed mode']\n",
      "building occupants: 21\n"
     ]
    }
   ],
   "source": [
    "# select one building and print out basic information\n",
    "df_data_1bldg = df_data[df_data['building_id'] == 1]\n",
    "\n",
    "print('field study period:', df_data_1bldg['timestamp'].min(), df_data_1bldg['timestamp'].max())\n",
    "print('field study location:', df_data_1bldg.city.unique())\n",
    "print('building type:', df_data_1bldg.building_type.unique())\n",
    "print('cooling type:', df_data_1bldg.cooling_type.unique())\n",
    "print('building occupants:', len(df_data_1bldg.subject_id.unique()))\n"
   ]
  },
  {
   "cell_type": "markdown",
   "metadata": {},
   "source": [
    "### Approach (a)"
   ]
  },
  {
   "cell_type": "code",
   "execution_count": 8,
   "metadata": {},
   "outputs": [
    {
     "name": "stderr",
     "output_type": "stream",
     "text": [
      "/var/folders/v0/03v41tbn7072cjr0b3ddfgjw0000gn/T/ipykernel_6625/215854653.py:5: SettingWithCopyWarning: \n",
      "A value is trying to be set on a copy of a slice from a DataFrame.\n",
      "Try using .loc[row_indexer,col_indexer] = value instead\n",
      "\n",
      "See the caveats in the documentation: https://pandas.pydata.org/pandas-docs/stable/user_guide/indexing.html#returning-a-view-versus-a-copy\n",
      "  df_data_1bldg['TSV_pred'] = lm_result.predict(df_data_1bldg['set'])\n"
     ]
    },
    {
     "data": {
      "image/png": "[encoded data removed]",
      "text/plain": [
       "<Figure size 720x504 with 1 Axes>"
      ]
     },
     "metadata": {
      "needs_background": "light"
     },
     "output_type": "display_data"
    },
    {
     "name": "stdout",
     "output_type": "stream",
     "text": [
      "                            OLS Regression Results                            \n",
      "==============================================================================\n",
      "Dep. Variable:      thermal_sensation   R-squared:                       0.254\n",
      "Model:                            OLS   Adj. R-squared:                  0.249\n",
      "Method:                 Least Squares   F-statistic:                     47.75\n",
      "Date:                Sat, 16 Dec 2023   Prob (F-statistic):           1.57e-10\n",
      "Time:                        14:34:25   Log-Likelihood:                -197.40\n",
      "No. Observations:                 142   AIC:                             398.8\n",
      "Df Residuals:                     140   BIC:                             404.7\n",
      "Df Model:                           1                                         \n",
      "Covariance Type:            nonrobust                                         \n",
      "==============================================================================\n",
      "                 coef    std err          t      P>|t|      [0.025      0.975]\n",
      "------------------------------------------------------------------------------\n",
      "Intercept     -6.7550      1.077     -6.275      0.000      -8.883      -4.627\n",
      "set            0.2914      0.042      6.910      0.000       0.208       0.375\n",
      "==============================================================================\n",
      "Omnibus:                       14.264   Durbin-Watson:                   1.807\n",
      "Prob(Omnibus):                  0.001   Jarque-Bera (JB):               17.323\n",
      "Skew:                          -0.632   Prob(JB):                     0.000173\n",
      "Kurtosis:                       4.154   Cond. No.                         335.\n",
      "==============================================================================\n",
      "\n",
      "Notes:\n",
      "[1] Standard Errors assume that the covariance matrix of the errors is correctly specified.\n",
      "******************************************************************************\n",
      "Neutral temperature: 23.2°C\n",
      "Comfort Zone: 20.3°C to 26.1°C\n"
     ]
    },
    {
     "data": {
      "text/plain": [
       "<Figure size 432x288 with 0 Axes>"
      ]
     },
     "metadata": {},
     "output_type": "display_data"
    }
   ],
   "source": [
    "# regressing TSV against SET\n",
    "lm_result = smf.ols(formula='thermal_sensation ~ set', data=df_data_1bldg).fit()\n",
    "\n",
    "# add the prediction to the dataframe\n",
    "df_data_1bldg['TSV_pred'] = lm_result.predict(df_data_1bldg['set'])\n",
    "\n",
    "# plot the regression line\n",
    "plt.figure(figsize=(10, 7))\n",
    "sns.regplot(x='set', y='thermal_sensation', data=df_data_1bldg, scatter_kws={'color': '#CCBB44'}, line_kws={'color': 'black','linewidth': 3}, ci=None)\n",
    "plt.xlabel('', fontsize=40)\n",
    "plt.ylabel('', rotation=0, fontsize=40)\n",
    "plt.xticks(fontsize=40)  # Rotate and set font size for x-axis tick labels\n",
    "plt.yticks(fontsize=40)  # Set font size for y-axis tick labels\n",
    "plt.grid(False)\n",
    "plt.show()\n",
    "\n",
    "# change the font to sen-serif Times new roman\n",
    "plt.rcParams['font.family'] = 'Times New Roman'\n",
    "plt.savefig('fig/Bldg_neutral_a.pdf', format='pdf', bbox_inches='tight')\n",
    "\n",
    "# statistical anayalsis summary\n",
    "print(lm_result.summary())\n",
    "print(\"******************************************************************************\")\n",
    "\n",
    "# check whether the correaltion (slope) is significant\n",
    "if lm_result.pvalues['set'] < 0.05:\n",
    "    a = lm_result.params['set']\n",
    "    b = lm_result.params['Intercept']\n",
    "    temp_n = -b / a\n",
    "    temp_up = (0.85-b)/a\n",
    "    temp_low = (-0.85-b)/a\n",
    "    print('Neutral temperature: {:.1f}'.format(temp_n), chr(176),'C', sep='')\n",
    "    print('Comfort Zone: {:.1f}'.format(temp_low), chr(176),'C to {:.1f}'.format(temp_up), chr(176),'C', sep='')\n",
    "else:\n",
    "    print('The slope is not significant, p value: {:.2f}'.format(lm_result.pvalues['set']))"
   ]
  },
  {
   "cell_type": "markdown",
   "metadata": {},
   "source": [
    "### Approach (b)"
   ]
  },
  {
   "cell_type": "code",
   "execution_count": 176,
   "metadata": {},
   "outputs": [
    {
     "name": "stderr",
     "output_type": "stream",
     "text": [
      "/var/folders/v0/03v41tbn7072cjr0b3ddfgjw0000gn/T/ipykernel_3416/443525999.py:5: SettingWithCopyWarning: \n",
      "A value is trying to be set on a copy of a slice from a DataFrame.\n",
      "Try using .loc[row_indexer,col_indexer] = value instead\n",
      "\n",
      "See the caveats in the documentation: https://pandas.pydata.org/pandas-docs/stable/user_guide/indexing.html#returning-a-view-versus-a-copy\n",
      "  df_data_1bldg['set_pred'] = lm_result.predict(df_data_1bldg['thermal_sensation'])\n"
     ]
    },
    {
     "data": {
      "image/png": "[encoded data removed]",
      "text/plain": [
       "<Figure size 720x504 with 1 Axes>"
      ]
     },
     "metadata": {
      "needs_background": "light"
     },
     "output_type": "display_data"
    },
    {
     "name": "stdout",
     "output_type": "stream",
     "text": [
      "                            OLS Regression Results                            \n",
      "==============================================================================\n",
      "Dep. Variable:                    set   R-squared:                       0.254\n",
      "Model:                            OLS   Adj. R-squared:                  0.249\n",
      "Method:                 Least Squares   F-statistic:                     47.75\n",
      "Date:                Sat, 16 Dec 2023   Prob (F-statistic):           1.57e-10\n",
      "Time:                        14:26:08   Log-Likelihood:                -275.29\n",
      "No. Observations:                 142   AIC:                             554.6\n",
      "Df Residuals:                     140   BIC:                             560.5\n",
      "Df Model:                           1                                         \n",
      "Covariance Type:            nonrobust                                         \n",
      "=====================================================================================\n",
      "                        coef    std err          t      P>|t|      [0.025      0.975]\n",
      "-------------------------------------------------------------------------------------\n",
      "Intercept            24.8765      0.165    150.867      0.000      24.550      25.202\n",
      "thermal_sensation     0.8728      0.126      6.910      0.000       0.623       1.122\n",
      "==============================================================================\n",
      "Omnibus:                       18.710   Durbin-Watson:                   2.166\n",
      "Prob(Omnibus):                  0.000   Jarque-Bera (JB):               30.234\n",
      "Skew:                          -0.656   Prob(JB):                     2.72e-07\n",
      "Kurtosis:                       4.841   Cond. No.                         1.87\n",
      "==============================================================================\n",
      "\n",
      "Notes:\n",
      "[1] Standard Errors assume that the covariance matrix of the errors is correctly specified.\n",
      "******************************************************************************\n",
      "Neutral temperature: 24.9°C\n",
      "Comfort Zone: 24.1°C to 25.6°C\n"
     ]
    },
    {
     "data": {
      "text/plain": [
       "<Figure size 432x288 with 0 Axes>"
      ]
     },
     "metadata": {},
     "output_type": "display_data"
    }
   ],
   "source": [
    "# regressing STE against TSV\n",
    "lm_result = smf.ols(formula='set ~ thermal_sensation', data=df_data_1bldg).fit()\n",
    "\n",
    "# add the prediction to the dataframe\n",
    "df_data_1bldg['set_pred'] = lm_result.predict(df_data_1bldg['thermal_sensation'])\n",
    "\n",
    "# plot the regression line, don't show the confidence interval\n",
    "plt.figure(figsize=(10, 7))\n",
    "sns.regplot(x='thermal_sensation', y='set', data=df_data_1bldg, scatter_kws={'color': '#CCBB44'}, line_kws={'color': 'black', 'linewidth': 3}, ci=None)\n",
    "plt.xlabel('', rotation=0, fontsize=40)\n",
    "plt.ylabel('', rotation=0, fontsize=40)\n",
    "plt.xticks(fontsize=38)  # Rotate and set font size for x-axis tick labels\n",
    "plt.yticks(fontsize=38)  # Set font size for y-axis tick labels\n",
    "plt.grid(False)\n",
    "plt.show()\n",
    "\n",
    "# plt.title('Regress thermal sensation votes on indoor temperature')\n",
    "plt.rcParams['font.family'] = 'Times New Roman'\n",
    "plt.savefig('fig/Bldg_neutral_b.pdf', format='pdf', bbox_inches='tight')\n",
    "\n",
    "# statistical anayalsis summary\n",
    "print(lm_result.summary())\n",
    "print(\"******************************************************************************\")\n",
    "\n",
    "# check whether the correaltion (slope) is significant\n",
    "if lm_result.pvalues['thermal_sensation'] < 0.05:\n",
    "    a = lm_result.params['thermal_sensation']\n",
    "    b = lm_result.params['Intercept']\n",
    "    temp_n = b\n",
    "    temp_up = 0.85*a + b\n",
    "    temp_low = (-0.85)*a + b\n",
    "    print('Neutral temperature: {:.1f}'.format(temp_n), chr(176),'C', sep='')\n",
    "    print('Comfort Zone: {:.1f}'.format(temp_low), chr(176),'C to {:.1f}'.format(temp_up), chr(176),'C', sep='')\n",
    "else:\n",
    "    print('The slope is not significant, p value: {:.2f}'.format(lm_result.pvalues['set']))"
   ]
  },
  {
   "cell_type": "code",
   "execution_count": 61,
   "metadata": {},
   "outputs": [
    {
     "data": {
      "text/html": [
       "<div>\n",
       "<style scoped>\n",
       "    .dataframe tbody tr th:only-of-type {\n",
       "        vertical-align: middle;\n",
       "    }\n",
       "\n",
       "    .dataframe tbody tr th {\n",
       "        vertical-align: top;\n",
       "    }\n",
       "\n",
       "    .dataframe thead th {\n",
       "        text-align: right;\n",
       "    }\n",
       "</style>\n",
       "<table border=\"1\" class=\"dataframe\">\n",
       "  <thead>\n",
       "    <tr style=\"text-align: right;\">\n",
       "      <th></th>\n",
       "      <th>set</th>\n",
       "      <th>thermal_sensation</th>\n",
       "    </tr>\n",
       "  </thead>\n",
       "  <tbody>\n",
       "    <tr>\n",
       "      <th>set</th>\n",
       "      <td>1.000000</td>\n",
       "      <td>0.504295</td>\n",
       "    </tr>\n",
       "    <tr>\n",
       "      <th>thermal_sensation</th>\n",
       "      <td>0.504295</td>\n",
       "      <td>1.000000</td>\n",
       "    </tr>\n",
       "  </tbody>\n",
       "</table>\n",
       "</div>"
      ],
      "text/plain": [
       "                        set  thermal_sensation\n",
       "set                1.000000           0.504295\n",
       "thermal_sensation  0.504295           1.000000"
      ]
     },
     "execution_count": 61,
     "metadata": {},
     "output_type": "execute_result"
    }
   ],
   "source": [
    "# calculate pearson correlation coefficient\n",
    "df_data_1bldg[['set', 'thermal_sensation']].corr()"
   ]
  },
  {
   "cell_type": "markdown",
   "metadata": {},
   "source": [
    "## Analysis on All buildings"
   ]
  },
  {
   "cell_type": "markdown",
   "metadata": {},
   "source": [
    "### Define functions for the two regression appraoches"
   ]
  },
  {
   "cell_type": "code",
   "execution_count": 51,
   "metadata": {},
   "outputs": [],
   "source": [
    "# regress TSV against SET\n",
    "def approach_a(bldg):\n",
    "    try:\n",
    "        lm_result = smf.ols(formula='thermal_sensation ~ set', data=bldg).fit()\n",
    "        slope = lm_result.params['set']\n",
    "        intercept = lm_result.params['Intercept']\n",
    "        # check whether the slope is significant\n",
    "        if lm_result.pvalues['set'] < 0.05:\n",
    "            a = slope\n",
    "            b = intercept\n",
    "            temp_n = -b / a\n",
    "            temp_up = (0.85-b)/a\n",
    "            temp_low = (-0.85-b)/a\n",
    "            return [slope, intercept, temp_n, temp_up, temp_low]\n",
    "        else:\n",
    "            return np.nan\n",
    "    except (ValueError, TypeError):\n",
    "        return np.nan\n",
    "\n",
    "# regress SET against TSV  \n",
    "def approach_b(bldg):\n",
    "    try:\n",
    "        lm_result = smf.ols(formula='set ~ thermal_sensation', data=bldg).fit()\n",
    "        slope = lm_result.params['thermal_sensation']\n",
    "        intercept = lm_result.params['Intercept']\n",
    "        # check whether the slope is significant\n",
    "        if lm_result.pvalues['thermal_sensation'] < 0.05:\n",
    "            a = slope\n",
    "            b = intercept\n",
    "            temp_n = b\n",
    "            temp_up = 0.85*a + b\n",
    "            temp_low = (-0.85)*a + b\n",
    "            return [slope, intercept, temp_n, temp_up, temp_low]\n",
    "        else:\n",
    "            return np.nan\n",
    "    except (ValueError, TypeError):\n",
    "        return np.nan"
   ]
  },
  {
   "cell_type": "markdown",
   "metadata": {},
   "source": [
    "### Calculate mean SET for each building"
   ]
  },
  {
   "cell_type": "code",
   "execution_count": 65,
   "metadata": {},
   "outputs": [],
   "source": [
    "# Define the columns for which you want to calculate the mean\n",
    "mean_cols = ['set', 't_out_combined']\n",
    "\n",
    "# Group by 'building_id' and calculate the mean for all these columns at once\n",
    "df_means = df_data.groupby('building_id')[mean_cols].mean()\n",
    "\n",
    "# Reset the index of df_means to make 'building_id' a column again\n",
    "df_means.reset_index(inplace=True)\n",
    "\n",
    "# Merge df_means with the metadata\n",
    "df_bldg = df_means.merge(df_meta[['building_id', 'records', 'cooling_type', 'building_type']], on='building_id', how='left')\n",
    "\n",
    "# Reset the building cooling type as string\n",
    "df_bldg['cooling_type'] = df_bldg['cooling_type'].str.title()"
   ]
  },
  {
   "cell_type": "markdown",
   "metadata": {},
   "source": [
    "### Calcualte neutral temperature for each building"
   ]
  },
  {
   "cell_type": "code",
   "execution_count": 66,
   "metadata": {},
   "outputs": [
    {
     "data": {
      "text/html": [
       "<div>\n",
       "<style scoped>\n",
       "    .dataframe tbody tr th:only-of-type {\n",
       "        vertical-align: middle;\n",
       "    }\n",
       "\n",
       "    .dataframe tbody tr th {\n",
       "        vertical-align: top;\n",
       "    }\n",
       "\n",
       "    .dataframe thead th {\n",
       "        text-align: right;\n",
       "    }\n",
       "</style>\n",
       "<table border=\"1\" class=\"dataframe\">\n",
       "  <thead>\n",
       "    <tr style=\"text-align: right;\">\n",
       "      <th></th>\n",
       "      <th>building_id</th>\n",
       "      <th>set</th>\n",
       "      <th>t_out_combined</th>\n",
       "      <th>records</th>\n",
       "      <th>cooling_type</th>\n",
       "      <th>building_type</th>\n",
       "      <th>slope_a</th>\n",
       "      <th>slope_b</th>\n",
       "      <th>intercept_a</th>\n",
       "      <th>intercept_b</th>\n",
       "      <th>temp_n_a</th>\n",
       "      <th>temp_n_b</th>\n",
       "      <th>temp_up_a</th>\n",
       "      <th>temp_up_b</th>\n",
       "      <th>temp_low_a</th>\n",
       "      <th>temp_low_b</th>\n",
       "    </tr>\n",
       "  </thead>\n",
       "  <tbody>\n",
       "    <tr>\n",
       "      <th>0</th>\n",
       "      <td>1</td>\n",
       "      <td>25.454225</td>\n",
       "      <td>15.560695</td>\n",
       "      <td>170</td>\n",
       "      <td>Mixed Mode</td>\n",
       "      <td>office</td>\n",
       "      <td>0.291385</td>\n",
       "      <td>0.872775</td>\n",
       "      <td>-6.755008</td>\n",
       "      <td>24.876473</td>\n",
       "      <td>23.182414</td>\n",
       "      <td>24.876473</td>\n",
       "      <td>26.099516</td>\n",
       "      <td>25.618332</td>\n",
       "      <td>20.265312</td>\n",
       "      <td>24.134614</td>\n",
       "    </tr>\n",
       "    <tr>\n",
       "      <th>1</th>\n",
       "      <td>2</td>\n",
       "      <td>23.616000</td>\n",
       "      <td>13.995833</td>\n",
       "      <td>83</td>\n",
       "      <td>Air Conditioned</td>\n",
       "      <td>office</td>\n",
       "      <td>NaN</td>\n",
       "      <td>NaN</td>\n",
       "      <td>NaN</td>\n",
       "      <td>NaN</td>\n",
       "      <td>NaN</td>\n",
       "      <td>NaN</td>\n",
       "      <td>NaN</td>\n",
       "      <td>NaN</td>\n",
       "      <td>NaN</td>\n",
       "      <td>NaN</td>\n",
       "    </tr>\n",
       "    <tr>\n",
       "      <th>2</th>\n",
       "      <td>3</td>\n",
       "      <td>23.694118</td>\n",
       "      <td>0.583480</td>\n",
       "      <td>85</td>\n",
       "      <td>Air Conditioned</td>\n",
       "      <td>office</td>\n",
       "      <td>NaN</td>\n",
       "      <td>NaN</td>\n",
       "      <td>NaN</td>\n",
       "      <td>NaN</td>\n",
       "      <td>NaN</td>\n",
       "      <td>NaN</td>\n",
       "      <td>NaN</td>\n",
       "      <td>NaN</td>\n",
       "      <td>NaN</td>\n",
       "      <td>NaN</td>\n",
       "    </tr>\n",
       "    <tr>\n",
       "      <th>3</th>\n",
       "      <td>4</td>\n",
       "      <td>24.164706</td>\n",
       "      <td>19.225391</td>\n",
       "      <td>137</td>\n",
       "      <td>Mixed Mode</td>\n",
       "      <td>office</td>\n",
       "      <td>0.211156</td>\n",
       "      <td>0.483831</td>\n",
       "      <td>-5.026896</td>\n",
       "      <td>24.128114</td>\n",
       "      <td>23.806534</td>\n",
       "      <td>24.128114</td>\n",
       "      <td>27.831991</td>\n",
       "      <td>24.539370</td>\n",
       "      <td>19.781077</td>\n",
       "      <td>23.716858</td>\n",
       "    </tr>\n",
       "    <tr>\n",
       "      <th>4</th>\n",
       "      <td>5</td>\n",
       "      <td>22.271875</td>\n",
       "      <td>9.048210</td>\n",
       "      <td>128</td>\n",
       "      <td>Air Conditioned</td>\n",
       "      <td>office</td>\n",
       "      <td>NaN</td>\n",
       "      <td>NaN</td>\n",
       "      <td>NaN</td>\n",
       "      <td>NaN</td>\n",
       "      <td>NaN</td>\n",
       "      <td>NaN</td>\n",
       "      <td>NaN</td>\n",
       "      <td>NaN</td>\n",
       "      <td>NaN</td>\n",
       "      <td>NaN</td>\n",
       "    </tr>\n",
       "  </tbody>\n",
       "</table>\n",
       "</div>"
      ],
      "text/plain": [
       "   building_id        set  t_out_combined  records     cooling_type  \\\n",
       "0            1  25.454225       15.560695      170       Mixed Mode   \n",
       "1            2  23.616000       13.995833       83  Air Conditioned   \n",
       "2            3  23.694118        0.583480       85  Air Conditioned   \n",
       "3            4  24.164706       19.225391      137       Mixed Mode   \n",
       "4            5  22.271875        9.048210      128  Air Conditioned   \n",
       "\n",
       "  building_type   slope_a   slope_b  intercept_a  intercept_b   temp_n_a  \\\n",
       "0        office  0.291385  0.872775    -6.755008    24.876473  23.182414   \n",
       "1        office       NaN       NaN          NaN          NaN        NaN   \n",
       "2        office       NaN       NaN          NaN          NaN        NaN   \n",
       "3        office  0.211156  0.483831    -5.026896    24.128114  23.806534   \n",
       "4        office       NaN       NaN          NaN          NaN        NaN   \n",
       "\n",
       "    temp_n_b  temp_up_a  temp_up_b  temp_low_a  temp_low_b  \n",
       "0  24.876473  26.099516  25.618332   20.265312   24.134614  \n",
       "1        NaN        NaN        NaN         NaN         NaN  \n",
       "2        NaN        NaN        NaN         NaN         NaN  \n",
       "3  24.128114  27.831991  24.539370   19.781077   23.716858  \n",
       "4        NaN        NaN        NaN         NaN         NaN  "
      ]
     },
     "execution_count": 66,
     "metadata": {},
     "output_type": "execute_result"
    }
   ],
   "source": [
    "# store regression results as columns\n",
    "columns_name = ['slope', 'intercept', 'temp_n', 'temp_up', 'temp_low']\n",
    "\n",
    "# calculate regression results for each building\n",
    "for i in range(5):\n",
    "    column = columns_name[i]+\"_a\"\n",
    "    df_bldg[column] = df_data.groupby('building_id').apply(lambda x: approach_a(x)[i] if approach_a(x) is not np.nan else np.nan).reset_index(level=0, drop=True)\n",
    "    column = columns_name[i]+\"_b\"\n",
    "    df_bldg[column] = df_data.groupby('building_id').apply(lambda x: approach_b(x)[i] if approach_b(x) is not np.nan else np.nan).reset_index(level=0, drop=True)\n",
    "\n",
    "df_bldg.head()"
   ]
  },
  {
   "cell_type": "markdown",
   "metadata": {},
   "source": [
    "### Filter out non-signficant regression results"
   ]
  },
  {
   "cell_type": "code",
   "execution_count": 89,
   "metadata": {},
   "outputs": [
    {
     "name": "stdout",
     "output_type": "stream",
     "text": [
      "Total buildings: 570\n",
      "Total NV buildings: 217\n",
      "Total AC buildings: 170\n",
      "******************************************************************************\n",
      "Approach (a)\n",
      "Total signficant buildings: 166\n",
      "Total signficant NV buildings: 70\n",
      "Total signficant AC buildings: 48\n",
      "Total signficant AC office buildings: 42\n",
      "******************************************************************************\n",
      "Approach (b)\n",
      "Total signficant buildings: 175\n",
      "Total signficant NV buildings: 76\n",
      "Total signficant AC buildings: 48\n",
      "Total signficant AC office buildings: 42\n"
     ]
    }
   ],
   "source": [
    "# number of all buildings\n",
    "print('Total buildings:', len(df_bldg))\n",
    "print(\"Total NV buildings:\", len(df_bldg[df_bldg['cooling_type'] == 'Naturally Ventilated']))\n",
    "print(\"Total AC buildings:\", len(df_bldg[df_bldg['cooling_type'] == 'Air Conditioned']))\n",
    "\n",
    "# get rid of all nan values in the temp_n_a column\n",
    "df_bldg_sig_a = df_bldg[~df_bldg['temp_n_a'].isna()]\n",
    "df_bldg_NV_a = df_bldg_sig_a[df_bldg_sig_a['cooling_type'] == 'Naturally Ventilated']\n",
    "df_bldg_AC_a = df_bldg_sig_a[df_bldg_sig_a['cooling_type'] == 'Air Conditioned']\n",
    "df_office_AC_a = df_bldg_AC_a[df_bldg_AC_a['building_type'] == 'office'].copy()\n",
    "\n",
    "\n",
    "print(\"******************************************************************************\")\n",
    "print('Approach (a)')\n",
    "print('Total signficant buildings:', len(df_bldg_sig_a))\n",
    "print('Total signficant NV buildings:', len(df_bldg_NV_a))\n",
    "print('Total signficant AC buildings:', len(df_bldg_AC_a))\n",
    "print('Total signficant AC office buildings:', len(df_office_AC_a))\n",
    "\n",
    "# get rid of all nan values in the temp_n_a column\n",
    "df_bldg_sig_b = df_bldg[~df_bldg['temp_n_b'].isna()]\n",
    "df_bldg_NV_b = df_bldg_sig_b[df_bldg_sig_b['cooling_type'] == 'Naturally Ventilated']\n",
    "df_bldg_AC_b = df_bldg_sig_b[df_bldg_sig_b['cooling_type'] == 'Air Conditioned']\n",
    "df_office_AC_b = df_bldg_AC_b[df_bldg_AC_b['building_type'] == 'office'].copy()\n",
    "\n",
    "print(\"******************************************************************************\")\n",
    "print('Approach (b)')\n",
    "print('Total signficant buildings:', len(df_bldg_sig_b))\n",
    "print('Total signficant NV buildings:', len(df_bldg_NV_b))\n",
    "print('Total signficant AC buildings:', len(df_bldg_AC_b))\n",
    "print('Total signficant AC office buildings:', len(df_office_AC_b))"
   ]
  },
  {
   "cell_type": "markdown",
   "metadata": {},
   "source": [
    "## Adaptive Comfort Model (ACM) for AC offices"
   ]
  },
  {
   "cell_type": "markdown",
   "metadata": {},
   "source": [
    "### Filter out extreme outdoor conditions"
   ]
  },
  {
   "cell_type": "code",
   "execution_count": 124,
   "metadata": {},
   "outputs": [
    {
     "name": "stdout",
     "output_type": "stream",
     "text": [
      "Total buildings for Approach (a) ACM: 36\n",
      "Total buildings for Approach (b) ACM: 36\n"
     ]
    }
   ],
   "source": [
    "# only keep buildings with 10 < t_out_combined < 35\n",
    "df_ACM_a = df_office_AC_a[(df_office_AC_a['t_out_combined'] >= 10) & (df_office_AC_a['t_out_combined'] <= 35)]\n",
    "df_ACM_b = df_office_AC_b[(df_office_AC_b['t_out_combined'] >= 10) & (df_office_AC_b['t_out_combined'] <= 35)]\n",
    "print(\"Total buildings for Approach (a) ACM:\", len(df_ACM_a))\n",
    "print(\"Total buildings for Approach (b) ACM:\", len(df_ACM_b))"
   ]
  },
  {
   "cell_type": "markdown",
   "metadata": {},
   "source": [
    "### Define functions for weighted linear regression"
   ]
  },
  {
   "cell_type": "code",
   "execution_count": 152,
   "metadata": {},
   "outputs": [],
   "source": [
    "# Weighted regression function\n",
    "def weighted_regression(x, y, weights):\n",
    "    X = sm.add_constant(x)\n",
    "    model = sm.WLS(y, X, weights=weights).fit()\n",
    "    intercept, slope = model.params\n",
    "    print('p value {:.3f}'.format(model.pvalues[1]))\n",
    "    print(model.summary())\n",
    "    return intercept, slope"
   ]
  },
  {
   "cell_type": "markdown",
   "metadata": {},
   "source": [
    "### Approach (a)"
   ]
  },
  {
   "cell_type": "code",
   "execution_count": 153,
   "metadata": {},
   "outputs": [
    {
     "name": "stdout",
     "output_type": "stream",
     "text": [
      "p value 0.002\n",
      "                            WLS Regression Results                            \n",
      "==============================================================================\n",
      "Dep. Variable:               temp_n_a   R-squared:                       0.241\n",
      "Model:                            WLS   Adj. R-squared:                  0.219\n",
      "Method:                 Least Squares   F-statistic:                     10.81\n",
      "Date:                Sat, 16 Dec 2023   Prob (F-statistic):            0.00235\n",
      "Time:                        13:50:14   Log-Likelihood:                -80.471\n",
      "No. Observations:                  36   AIC:                             164.9\n",
      "Df Residuals:                      34   BIC:                             168.1\n",
      "Df Model:                           1                                         \n",
      "Covariance Type:            nonrobust                                         \n",
      "==================================================================================\n",
      "                     coef    std err          t      P>|t|      [0.025      0.975]\n",
      "----------------------------------------------------------------------------------\n",
      "const             19.2402      1.547     12.440      0.000      16.097      22.383\n",
      "t_out_combined     0.1989      0.061      3.288      0.002       0.076       0.322\n",
      "==============================================================================\n",
      "Omnibus:                       39.594   Durbin-Watson:                   1.092\n",
      "Prob(Omnibus):                  0.000   Jarque-Bera (JB):              144.591\n",
      "Skew:                           2.458   Prob(JB):                     4.00e-32\n",
      "Kurtosis:                      11.499   Cond. No.                         119.\n",
      "==============================================================================\n",
      "\n",
      "Notes:\n",
      "[1] Standard Errors assume that the covariance matrix of the errors is correctly specified.\n",
      "******************************************************************************\n",
      "ACM regression line slope: 0.20\n",
      "ACM regression line slope: 19.24\n",
      "ACM comfort zone: 8.24\n"
     ]
    }
   ],
   "source": [
    "# conduct weighted ACM regression line and print out the results\n",
    "temp_n_a_intercept, temp_n_a_slope = weighted_regression(df_ACM_a['t_out_combined'], df_ACM_a['temp_n_a'], df_ACM_a['records'])\n",
    "# print the fitted line slope and intercept\n",
    "print(\"******************************************************************************\")\n",
    "print('ACM regression line slope: {:.2f}'.format(temp_n_a_slope))\n",
    "print('ACM regression line slope: {:.2f}'.format(temp_n_a_intercept))\n",
    "\n",
    "# calculate the mean comfort zone\n",
    "range_a = df_ACM_a['temp_up_a'].mean() - df_ACM_a['temp_low_a'].mean()\n",
    "print('ACM comfort zone: {:.2f}'.format(range_a))\n"
   ]
  },
  {
   "cell_type": "code",
   "execution_count": 178,
   "metadata": {},
   "outputs": [
    {
     "data": {
      "image/png": "[encoded data removed]",
      "text/plain": [
       "<Figure size 720x504 with 1 Axes>"
      ]
     },
     "metadata": {
      "needs_background": "light"
     },
     "output_type": "display_data"
    }
   ],
   "source": [
    "# sort the data points by t_out_combined\n",
    "t_out_combined = np.array(df_ACM_a['t_out_combined'])\n",
    "sort_index = np.argsort(t_out_combined)\n",
    "t_out_combined = t_out_combined[sort_index]\n",
    "up_line = temp_n_a_slope * t_out_combined + temp_n_a_intercept + range_a/2\n",
    "low_line = temp_n_a_slope * t_out_combined + temp_n_a_intercept - range_a/2\n",
    "middle_line = temp_n_a_slope * t_out_combined + temp_n_a_intercept\n",
    "\n",
    "# plot data points\n",
    "plt.figure(figsize=(10, 7))\n",
    "plt.plot(t_out_combined, middle_line, color='black', linewidth=4)\n",
    "sns.regplot(x='t_out_combined', y='temp_n_a', data=df_ACM_a, fit_reg=False, scatter_kws={'color': 'green'})\n",
    "plt.xlabel('', fontsize=40)\n",
    "plt.ylabel('', fontsize=40)\n",
    "plt.xticks(fontsize=40)\n",
    "plt.yticks(fontsize=40)\n",
    "plt.xlim(10, 35)\n",
    "plt.ylim(17, 30)\n",
    "plt.grid(False)\n",
    "plt.rcParams['font.family'] = 'Times New Roman'\n",
    "plt.savefig('fig/ACM_neutral_a.pdf', format='pdf', bbox_inches='tight')\n"
   ]
  },
  {
   "cell_type": "code",
   "execution_count": 177,
   "metadata": {},
   "outputs": [
    {
     "data": {
      "image/png": "[encoded data removed]",
      "text/plain": [
       "<Figure size 720x504 with 1 Axes>"
      ]
     },
     "metadata": {
      "needs_background": "light"
     },
     "output_type": "display_data"
    }
   ],
   "source": [
    "# draw grey band between the two lines\n",
    "plt.figure(figsize=(10, 7))\n",
    "plt.plot(t_out_combined, up_line, color='black', linewidth=2, linestyle='--', dashes=(5, 5))\n",
    "plt.plot(t_out_combined, low_line, color='black', linewidth=2, linestyle='--', dashes=(5, 5))\n",
    "plt.plot(t_out_combined, middle_line, color='black', linewidth=4)\n",
    "plt.fill_between(t_out_combined, up_line, low_line, color='grey', alpha=0.5)\n",
    "plt.xlabel('', fontsize=40)\n",
    "plt.ylabel('', rotation=90, fontsize=40)\n",
    "plt.xticks(fontsize=40)\n",
    "plt.yticks(fontsize=40)\n",
    "plt.xlim(10, 35)\n",
    "plt.ylim(17, 30)\n",
    "plt.grid(True)\n",
    "plt.rcParams['font.family'] = 'Times New Roman'\n",
    "plt.savefig('fig/ACM_comfort_a.pdf', format='pdf', bbox_inches='tight')"
   ]
  },
  {
   "cell_type": "markdown",
   "metadata": {},
   "source": [
    "### Approach (b)"
   ]
  },
  {
   "cell_type": "code",
   "execution_count": 157,
   "metadata": {},
   "outputs": [
    {
     "name": "stdout",
     "output_type": "stream",
     "text": [
      "p value 0.622\n",
      "                            WLS Regression Results                            \n",
      "==============================================================================\n",
      "Dep. Variable:               temp_n_b   R-squared:                       0.007\n",
      "Model:                            WLS   Adj. R-squared:                 -0.022\n",
      "Method:                 Least Squares   F-statistic:                    0.2478\n",
      "Date:                Sat, 16 Dec 2023   Prob (F-statistic):              0.622\n",
      "Time:                        14:06:32   Log-Likelihood:                -53.420\n",
      "No. Observations:                  36   AIC:                             110.8\n",
      "Df Residuals:                      34   BIC:                             114.0\n",
      "Df Model:                           1                                         \n",
      "Covariance Type:            nonrobust                                         \n",
      "==================================================================================\n",
      "                     coef    std err          t      P>|t|      [0.025      0.975]\n",
      "----------------------------------------------------------------------------------\n",
      "const             23.4010      0.730     32.075      0.000      21.918      24.884\n",
      "t_out_combined     0.0142      0.029      0.498      0.622      -0.044       0.072\n",
      "==============================================================================\n",
      "Omnibus:                        3.738   Durbin-Watson:                   1.206\n",
      "Prob(Omnibus):                  0.154   Jarque-Bera (JB):                3.325\n",
      "Skew:                           0.735   Prob(JB):                        0.190\n",
      "Kurtosis:                       2.757   Cond. No.                         119.\n",
      "==============================================================================\n",
      "\n",
      "Notes:\n",
      "[1] Standard Errors assume that the covariance matrix of the errors is correctly specified.\n",
      "******************************************************************************\n",
      "ACM regression line slope: 0.01\n",
      "ACM regression line slope: 23.40\n",
      "ACM comfort zone: 1.06\n"
     ]
    }
   ],
   "source": [
    "# conduct weighted ACM regression line and print out the results\n",
    "temp_n_b_intercept, temp_n_b_slope = weighted_regression(df_ACM_b['t_out_combined'], df_ACM_b['temp_n_b'], df_ACM_b['records'])\n",
    "# print the fitted line slope and intercept\n",
    "print(\"******************************************************************************\")\n",
    "print('ACM regression line slope: {:.2f}'.format(temp_n_b_slope))\n",
    "print('ACM regression line slope: {:.2f}'.format(temp_n_b_intercept))\n",
    "\n",
    "# calculate the mean comfort zone\n",
    "range_b = df_ACM_b['temp_up_b'].mean() - df_ACM_b['temp_low_b'].mean()\n",
    "print('ACM comfort zone: {:.2f}'.format(range_b))"
   ]
  },
  {
   "cell_type": "code",
   "execution_count": 179,
   "metadata": {},
   "outputs": [
    {
     "data": {
      "image/png": "[encoded data removed]",
      "text/plain": [
       "<Figure size 720x504 with 1 Axes>"
      ]
     },
     "metadata": {
      "needs_background": "light"
     },
     "output_type": "display_data"
    }
   ],
   "source": [
    "# sort the data points by t_out_combined\n",
    "t_out_combined = np.array(df_ACM_b['t_out_combined'])\n",
    "sort_index = np.argsort(t_out_combined)\n",
    "t_out_combined = t_out_combined[sort_index]\n",
    "up_line = temp_n_b_slope * t_out_combined + temp_n_b_intercept + range_b/2\n",
    "low_line = temp_n_b_slope * t_out_combined + temp_n_b_intercept - range_b/2\n",
    "middle_line = temp_n_b_slope * t_out_combined + temp_n_b_intercept\n",
    "\n",
    "# plot data points\n",
    "plt.figure(figsize=(10, 7))\n",
    "plt.plot(t_out_combined, middle_line, color='black', linewidth=4)\n",
    "sns.regplot(x='t_out_combined', y='temp_n_b', data=df_ACM_b, fit_reg=False, scatter_kws={'color': 'green'})\n",
    "plt.xlabel('', fontsize=40)\n",
    "plt.ylabel('', fontsize=40)\n",
    "plt.xticks(fontsize=40)\n",
    "plt.yticks(fontsize=40)\n",
    "plt.xlim(10, 35)\n",
    "plt.ylim(17, 30)\n",
    "plt.grid(False)\n",
    "plt.rcParams['font.family'] = 'Times New Roman'\n",
    "plt.savefig('fig/ACM_neutral_b.pdf', format='pdf', bbox_inches='tight')"
   ]
  },
  {
   "cell_type": "code",
   "execution_count": 180,
   "metadata": {},
   "outputs": [
    {
     "data": {
      "image/png": "[encoded data removed]",
      "text/plain": [
       "<Figure size 720x504 with 1 Axes>"
      ]
     },
     "metadata": {
      "needs_background": "light"
     },
     "output_type": "display_data"
    }
   ],
   "source": [
    "# draw grey band between the two lines\n",
    "plt.figure(figsize=(10, 7))\n",
    "plt.plot(t_out_combined, up_line, color='black', linewidth=2, linestyle='--', dashes=(5, 5))\n",
    "plt.plot(t_out_combined, low_line, color='black', linewidth=2, linestyle='--', dashes=(5, 5))\n",
    "plt.plot(t_out_combined, middle_line, color='black', linewidth=4)\n",
    "plt.fill_between(t_out_combined, up_line, low_line, color='grey', alpha=0.5)\n",
    "plt.xlabel('', fontsize=40)\n",
    "plt.ylabel('', rotation=90, fontsize=40)\n",
    "plt.xticks(fontsize=40)\n",
    "plt.yticks(fontsize=40)\n",
    "plt.xlim(10, 35)\n",
    "plt.ylim(17, 30)\n",
    "plt.grid(True)\n",
    "plt.rcParams['font.family'] = 'Times New Roman'\n",
    "plt.savefig('fig/ACM_comfort_b.pdf', format='pdf', bbox_inches='tight')\n",
    "\n"
   ]
  },
  {
   "cell_type": "markdown",
   "metadata": {},
   "source": [
    "### MSE"
   ]
  },
  {
   "cell_type": "code",
   "execution_count": 159,
   "metadata": {},
   "outputs": [
    {
     "name": "stdout",
     "output_type": "stream",
     "text": [
      "Approach (a): 5.08\n",
      "Approach (b): 1.13\n"
     ]
    }
   ],
   "source": [
    "# calculate mean squared error (MSE) for the regression line\n",
    "def mse(x, y, intercept, slope):\n",
    "    y_pred = slope*x + intercept\n",
    "    mse = np.mean((y-y_pred)**2)\n",
    "    return mse\n",
    "\n",
    "print('Approach (a): {:.2f}'.format(mse(df_ACM_a['t_out_combined'], df_ACM_a['temp_n_a'], temp_n_a_intercept, temp_n_a_slope)))\n",
    "print('Approach (b): {:.2f}'.format(mse(df_ACM_b['t_out_combined'], df_ACM_b['temp_n_b'], temp_n_b_intercept, temp_n_b_slope)))"
   ]
  }
 ],
 "metadata": {
  "kernelspec": {
   "display_name": "Python 3",
   "language": "python",
   "name": "python3"
  },
  "language_info": {
   "codemirror_mode": {
    "name": "ipython",
    "version": 3
   },
   "file_extension": ".py",
   "mimetype": "text/x-python",
   "name": "python",
   "nbconvert_exporter": "python",
   "pygments_lexer": "ipython3",
   "version": "3.9.7"
  },
  "orig_nbformat": 4
 },
 "nbformat": 4,
 "nbformat_minor": 2
}
